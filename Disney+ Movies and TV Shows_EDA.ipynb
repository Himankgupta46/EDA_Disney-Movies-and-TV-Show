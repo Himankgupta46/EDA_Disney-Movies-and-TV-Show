{
 "cells": [
  {
   "cell_type": "markdown",
   "id": "7be9df13",
   "metadata": {},
   "source": [
    "\n",
    "# Data Cleaning and EDA.\n",
    "<img src=https://img.freepik.com/premium-vector/it-specialists-administrate-cloud-service-data-storage-hosting-platform-big-data-processing-transferring-online-computing-technology-software-solutions-share-informations-digital-network_458444-974.jpg alt=\"Alternative text\" />"
   ]
  },
  {
   "cell_type": "markdown",
   "id": "d48a29d6",
   "metadata": {},
   "source": [
    "## About Data Set\n",
    "#### About this Dataset: Disney+ is another one of the most popular media and video streaming platforms. They have close to 1300 movies or tv shows available on their platform, as of mid-2021, they have over 116M Subscribers globally. This tabular dataset consists of listings of all the movies and tv shows available on Amazon Prime, along with details such as - cast, directors, ratings, release year, duration, etc.\n",
    "\n",
    "### Content       \n",
    "- Show_id: Unique ID for every Movie / TV Show\n",
    "- Type: Identifier - AMovie or TV Show\n",
    "\n",
    "- Title: Title of the Movie or TV Show\n",
    "\n",
    "- Director: Director of the Movie /TV Show\n",
    "\n",
    "- Cast: ‘Actors involved in the Movie / TV Show\n",
    "\n",
    "- Country:. ‘Country where the movie / show was produced\n",
    "- Date_added: ‘Added date on Netflix\n",
    "\n",
    "- Release_year: Actual release year of the Movie / TV Show\n",
    "- Rating:. Rating type of the Movie or TV Show\n",
    "\n",
    "- Duration: Total Duration - in minutes or number of seasons\n"
   ]
  },
  {
   "cell_type": "code",
   "execution_count": 30,
   "id": "36f5ff76",
   "metadata": {},
   "outputs": [],
   "source": [
    "import pandas as pd\n",
    "import numpy as np \n",
    "import matplotlib.pyplot as plt\n",
    "%matplotlib inline\n",
    "import seaborn as sns\n",
    "import plotly.express as px\n"
   ]
  },
  {
   "cell_type": "code",
   "execution_count": 166,
   "id": "71c6b649",
   "metadata": {},
   "outputs": [
    {
     "data": {
      "text/html": [
       "<div>\n",
       "<style scoped>\n",
       "    .dataframe tbody tr th:only-of-type {\n",
       "        vertical-align: middle;\n",
       "    }\n",
       "\n",
       "    .dataframe tbody tr th {\n",
       "        vertical-align: top;\n",
       "    }\n",
       "\n",
       "    .dataframe thead th {\n",
       "        text-align: right;\n",
       "    }\n",
       "</style>\n",
       "<table border=\"1\" class=\"dataframe\">\n",
       "  <thead>\n",
       "    <tr style=\"text-align: right;\">\n",
       "      <th></th>\n",
       "      <th>show_id</th>\n",
       "      <th>type</th>\n",
       "      <th>title</th>\n",
       "      <th>director</th>\n",
       "      <th>cast</th>\n",
       "      <th>country</th>\n",
       "      <th>date_added</th>\n",
       "      <th>release_year</th>\n",
       "      <th>rating</th>\n",
       "      <th>duration</th>\n",
       "      <th>listed_in</th>\n",
       "      <th>description</th>\n",
       "    </tr>\n",
       "  </thead>\n",
       "  <tbody>\n",
       "    <tr>\n",
       "      <th>0</th>\n",
       "      <td>s1</td>\n",
       "      <td>Movie</td>\n",
       "      <td>Duck the Halls: A Mickey Mouse Christmas Special</td>\n",
       "      <td>Alonso Ramirez Ramos, Dave Wasson</td>\n",
       "      <td>Chris Diamantopoulos, Tony Anselmo, Tress MacN...</td>\n",
       "      <td>NaN</td>\n",
       "      <td>26-Nov-21</td>\n",
       "      <td>2016</td>\n",
       "      <td>TV-G</td>\n",
       "      <td>23 min</td>\n",
       "      <td>Animation, Family</td>\n",
       "      <td>Join Mickey and the gang as they duck the halls!</td>\n",
       "    </tr>\n",
       "    <tr>\n",
       "      <th>1</th>\n",
       "      <td>s2</td>\n",
       "      <td>Movie</td>\n",
       "      <td>Ernest Saves Christmas</td>\n",
       "      <td>John Cherry</td>\n",
       "      <td>Jim Varney, Noelle Parker, Douglas Seale</td>\n",
       "      <td>NaN</td>\n",
       "      <td>26-Nov-21</td>\n",
       "      <td>1988</td>\n",
       "      <td>PG</td>\n",
       "      <td>91 min</td>\n",
       "      <td>Comedy</td>\n",
       "      <td>Santa Claus passes his magic bag to a new St. ...</td>\n",
       "    </tr>\n",
       "    <tr>\n",
       "      <th>2</th>\n",
       "      <td>s3</td>\n",
       "      <td>Movie</td>\n",
       "      <td>Ice Age: A Mammoth Christmas</td>\n",
       "      <td>Karen Disher</td>\n",
       "      <td>Raymond Albert Romano, John Leguizamo, Denis L...</td>\n",
       "      <td>United States</td>\n",
       "      <td>26-Nov-21</td>\n",
       "      <td>2011</td>\n",
       "      <td>TV-G</td>\n",
       "      <td>23 min</td>\n",
       "      <td>Animation, Comedy, Family</td>\n",
       "      <td>Sid the Sloth is on Santa's naughty list.</td>\n",
       "    </tr>\n",
       "    <tr>\n",
       "      <th>3</th>\n",
       "      <td>s4</td>\n",
       "      <td>Movie</td>\n",
       "      <td>The Queen Family Singalong</td>\n",
       "      <td>Hamish Hamilton</td>\n",
       "      <td>Darren Criss, Adam Lambert, Derek Hough, Alexa...</td>\n",
       "      <td>NaN</td>\n",
       "      <td>26-Nov-21</td>\n",
       "      <td>2021</td>\n",
       "      <td>TV-PG</td>\n",
       "      <td>41 min</td>\n",
       "      <td>Musical</td>\n",
       "      <td>This is real life, not just fantasy!</td>\n",
       "    </tr>\n",
       "    <tr>\n",
       "      <th>4</th>\n",
       "      <td>s5</td>\n",
       "      <td>TV Show</td>\n",
       "      <td>The Beatles: Get Back</td>\n",
       "      <td>NaN</td>\n",
       "      <td>John Lennon, Paul McCartney, George Harrison, ...</td>\n",
       "      <td>NaN</td>\n",
       "      <td>25-Nov-21</td>\n",
       "      <td>2021</td>\n",
       "      <td>NaN</td>\n",
       "      <td>1 Season</td>\n",
       "      <td>Docuseries, Historical, Music</td>\n",
       "      <td>A three-part documentary from Peter Jackson ca...</td>\n",
       "    </tr>\n",
       "  </tbody>\n",
       "</table>\n",
       "</div>"
      ],
      "text/plain": [
       "  show_id     type                                             title  \\\n",
       "0      s1    Movie  Duck the Halls: A Mickey Mouse Christmas Special   \n",
       "1      s2    Movie                            Ernest Saves Christmas   \n",
       "2      s3    Movie                      Ice Age: A Mammoth Christmas   \n",
       "3      s4    Movie                        The Queen Family Singalong   \n",
       "4      s5  TV Show                             The Beatles: Get Back   \n",
       "\n",
       "                            director  \\\n",
       "0  Alonso Ramirez Ramos, Dave Wasson   \n",
       "1                        John Cherry   \n",
       "2                       Karen Disher   \n",
       "3                    Hamish Hamilton   \n",
       "4                                NaN   \n",
       "\n",
       "                                                cast        country  \\\n",
       "0  Chris Diamantopoulos, Tony Anselmo, Tress MacN...            NaN   \n",
       "1           Jim Varney, Noelle Parker, Douglas Seale            NaN   \n",
       "2  Raymond Albert Romano, John Leguizamo, Denis L...  United States   \n",
       "3  Darren Criss, Adam Lambert, Derek Hough, Alexa...            NaN   \n",
       "4  John Lennon, Paul McCartney, George Harrison, ...            NaN   \n",
       "\n",
       "  date_added  release_year rating  duration                      listed_in  \\\n",
       "0  26-Nov-21          2016   TV-G    23 min              Animation, Family   \n",
       "1  26-Nov-21          1988     PG    91 min                         Comedy   \n",
       "2  26-Nov-21          2011   TV-G    23 min      Animation, Comedy, Family   \n",
       "3  26-Nov-21          2021  TV-PG    41 min                        Musical   \n",
       "4  25-Nov-21          2021    NaN  1 Season  Docuseries, Historical, Music   \n",
       "\n",
       "                                         description  \n",
       "0   Join Mickey and the gang as they duck the halls!  \n",
       "1  Santa Claus passes his magic bag to a new St. ...  \n",
       "2          Sid the Sloth is on Santa's naughty list.  \n",
       "3               This is real life, not just fantasy!  \n",
       "4  A three-part documentary from Peter Jackson ca...  "
      ]
     },
     "execution_count": 166,
     "metadata": {},
     "output_type": "execute_result"
    }
   ],
   "source": [
    "df=pd.read_csv(r'D:\\Python__\\Data Science_LNB\\Assignment\\Disney_Movies_Data\\disney_plus_titles.csv')\n",
    "df.head()\n"
   ]
  },
  {
   "cell_type": "code",
   "execution_count": 32,
   "id": "d5884972",
   "metadata": {},
   "outputs": [
    {
     "name": "stdout",
     "output_type": "stream",
     "text": [
      "<class 'pandas.core.frame.DataFrame'>\n",
      "RangeIndex: 1450 entries, 0 to 1449\n",
      "Data columns (total 12 columns):\n",
      " #   Column        Non-Null Count  Dtype \n",
      "---  ------        --------------  ----- \n",
      " 0   show_id       1450 non-null   object\n",
      " 1   type          1450 non-null   object\n",
      " 2   title         1450 non-null   object\n",
      " 3   director      977 non-null    object\n",
      " 4   cast          1260 non-null   object\n",
      " 5   country       1231 non-null   object\n",
      " 6   date_added    1447 non-null   object\n",
      " 7   release_year  1450 non-null   int64 \n",
      " 8   rating        1447 non-null   object\n",
      " 9   duration      1450 non-null   object\n",
      " 10  listed_in     1450 non-null   object\n",
      " 11  description   1450 non-null   object\n",
      "dtypes: int64(1), object(11)\n",
      "memory usage: 136.1+ KB\n"
     ]
    }
   ],
   "source": [
    "df.info()"
   ]
  },
  {
   "cell_type": "code",
   "execution_count": 33,
   "id": "dbf51014",
   "metadata": {},
   "outputs": [
    {
     "data": {
      "text/plain": [
       "show_id           0\n",
       "type              0\n",
       "title             0\n",
       "director        473\n",
       "cast            190\n",
       "country         219\n",
       "date_added        3\n",
       "release_year      0\n",
       "rating            3\n",
       "duration          0\n",
       "listed_in         0\n",
       "description       0\n",
       "dtype: int64"
      ]
     },
     "execution_count": 33,
     "metadata": {},
     "output_type": "execute_result"
    }
   ],
   "source": [
    "# Checking Out the missing Values.\n",
    "df.isna().sum()\n"
   ]
  },
  {
   "cell_type": "code",
   "execution_count": 34,
   "id": "4b78d725",
   "metadata": {},
   "outputs": [
    {
     "data": {
      "text/html": [
       "<div>\n",
       "<style scoped>\n",
       "    .dataframe tbody tr th:only-of-type {\n",
       "        vertical-align: middle;\n",
       "    }\n",
       "\n",
       "    .dataframe tbody tr th {\n",
       "        vertical-align: top;\n",
       "    }\n",
       "\n",
       "    .dataframe thead th {\n",
       "        text-align: right;\n",
       "    }\n",
       "</style>\n",
       "<table border=\"1\" class=\"dataframe\">\n",
       "  <thead>\n",
       "    <tr style=\"text-align: right;\">\n",
       "      <th></th>\n",
       "      <th>show_id</th>\n",
       "      <th>type</th>\n",
       "      <th>title</th>\n",
       "      <th>director</th>\n",
       "      <th>cast</th>\n",
       "      <th>country</th>\n",
       "      <th>date_added</th>\n",
       "      <th>release_year</th>\n",
       "      <th>rating</th>\n",
       "      <th>duration</th>\n",
       "      <th>listed_in</th>\n",
       "      <th>description</th>\n",
       "    </tr>\n",
       "  </thead>\n",
       "  <tbody>\n",
       "    <tr>\n",
       "      <th>0</th>\n",
       "      <td>s1</td>\n",
       "      <td>Movie</td>\n",
       "      <td>Duck the Halls: A Mickey Mouse Christmas Special</td>\n",
       "      <td>Alonso Ramirez Ramos, Dave Wasson</td>\n",
       "      <td>Chris Diamantopoulos, Tony Anselmo, Tress MacN...</td>\n",
       "      <td>NaN</td>\n",
       "      <td>26-Nov-21</td>\n",
       "      <td>2016</td>\n",
       "      <td>TV-G</td>\n",
       "      <td>23 min</td>\n",
       "      <td>Animation, Family</td>\n",
       "      <td>Join Mickey and the gang as they duck the halls!</td>\n",
       "    </tr>\n",
       "    <tr>\n",
       "      <th>1</th>\n",
       "      <td>s2</td>\n",
       "      <td>Movie</td>\n",
       "      <td>Ernest Saves Christmas</td>\n",
       "      <td>John Cherry</td>\n",
       "      <td>Jim Varney, Noelle Parker, Douglas Seale</td>\n",
       "      <td>NaN</td>\n",
       "      <td>26-Nov-21</td>\n",
       "      <td>1988</td>\n",
       "      <td>PG</td>\n",
       "      <td>91 min</td>\n",
       "      <td>Comedy</td>\n",
       "      <td>Santa Claus passes his magic bag to a new St. ...</td>\n",
       "    </tr>\n",
       "  </tbody>\n",
       "</table>\n",
       "</div>"
      ],
      "text/plain": [
       "  show_id   type                                             title  \\\n",
       "0      s1  Movie  Duck the Halls: A Mickey Mouse Christmas Special   \n",
       "1      s2  Movie                            Ernest Saves Christmas   \n",
       "\n",
       "                            director  \\\n",
       "0  Alonso Ramirez Ramos, Dave Wasson   \n",
       "1                        John Cherry   \n",
       "\n",
       "                                                cast country date_added  \\\n",
       "0  Chris Diamantopoulos, Tony Anselmo, Tress MacN...     NaN  26-Nov-21   \n",
       "1           Jim Varney, Noelle Parker, Douglas Seale     NaN  26-Nov-21   \n",
       "\n",
       "   release_year rating duration          listed_in  \\\n",
       "0          2016   TV-G   23 min  Animation, Family   \n",
       "1          1988     PG   91 min             Comedy   \n",
       "\n",
       "                                         description  \n",
       "0   Join Mickey and the gang as they duck the halls!  \n",
       "1  Santa Claus passes his magic bag to a new St. ...  "
      ]
     },
     "execution_count": 34,
     "metadata": {},
     "output_type": "execute_result"
    }
   ],
   "source": [
    "df.head(2)"
   ]
  },
  {
   "cell_type": "code",
   "execution_count": 35,
   "id": "a1e4afe6",
   "metadata": {},
   "outputs": [
    {
     "name": "stdout",
     "output_type": "stream",
     "text": [
      "<class 'pandas.core.frame.DataFrame'>\n",
      "RangeIndex: 1450 entries, 0 to 1449\n",
      "Data columns (total 12 columns):\n",
      " #   Column        Non-Null Count  Dtype         \n",
      "---  ------        --------------  -----         \n",
      " 0   show_id       1450 non-null   object        \n",
      " 1   type          1450 non-null   object        \n",
      " 2   title         1450 non-null   object        \n",
      " 3   director      977 non-null    object        \n",
      " 4   cast          1260 non-null   object        \n",
      " 5   country       1231 non-null   object        \n",
      " 6   date_added    1447 non-null   datetime64[ns]\n",
      " 7   release_year  1450 non-null   int64         \n",
      " 8   rating        1447 non-null   object        \n",
      " 9   duration      1450 non-null   object        \n",
      " 10  listed_in     1450 non-null   object        \n",
      " 11  description   1450 non-null   object        \n",
      "dtypes: datetime64[ns](1), int64(1), object(10)\n",
      "memory usage: 136.1+ KB\n"
     ]
    }
   ],
   "source": [
    "# Converting the Date column into Datetime formate. \n",
    "df=df.astype({'date_added':'datetime64[ns]'})\n",
    "df.info()\n"
   ]
  },
  {
   "cell_type": "code",
   "execution_count": 36,
   "id": "3968071d",
   "metadata": {},
   "outputs": [
    {
     "data": {
      "text/html": [
       "<div>\n",
       "<style scoped>\n",
       "    .dataframe tbody tr th:only-of-type {\n",
       "        vertical-align: middle;\n",
       "    }\n",
       "\n",
       "    .dataframe tbody tr th {\n",
       "        vertical-align: top;\n",
       "    }\n",
       "\n",
       "    .dataframe thead th {\n",
       "        text-align: right;\n",
       "    }\n",
       "</style>\n",
       "<table border=\"1\" class=\"dataframe\">\n",
       "  <thead>\n",
       "    <tr style=\"text-align: right;\">\n",
       "      <th></th>\n",
       "      <th>show_id</th>\n",
       "      <th>type</th>\n",
       "      <th>title</th>\n",
       "      <th>director</th>\n",
       "      <th>cast</th>\n",
       "      <th>country</th>\n",
       "      <th>date_added</th>\n",
       "      <th>release_year</th>\n",
       "      <th>rating</th>\n",
       "      <th>duration</th>\n",
       "      <th>listed_in</th>\n",
       "      <th>description</th>\n",
       "    </tr>\n",
       "  </thead>\n",
       "  <tbody>\n",
       "    <tr>\n",
       "      <th>0</th>\n",
       "      <td>s1</td>\n",
       "      <td>Movie</td>\n",
       "      <td>Duck the Halls: A Mickey Mouse Christmas Special</td>\n",
       "      <td>Alonso Ramirez Ramos, Dave Wasson</td>\n",
       "      <td>Chris Diamantopoulos, Tony Anselmo, Tress MacN...</td>\n",
       "      <td>NaN</td>\n",
       "      <td>2021-11-26</td>\n",
       "      <td>2016</td>\n",
       "      <td>TV-G</td>\n",
       "      <td>23 min</td>\n",
       "      <td>Animation, Family</td>\n",
       "      <td>Join Mickey and the gang as they duck the halls!</td>\n",
       "    </tr>\n",
       "  </tbody>\n",
       "</table>\n",
       "</div>"
      ],
      "text/plain": [
       "  show_id   type                                             title  \\\n",
       "0      s1  Movie  Duck the Halls: A Mickey Mouse Christmas Special   \n",
       "\n",
       "                            director  \\\n",
       "0  Alonso Ramirez Ramos, Dave Wasson   \n",
       "\n",
       "                                                cast country date_added  \\\n",
       "0  Chris Diamantopoulos, Tony Anselmo, Tress MacN...     NaN 2021-11-26   \n",
       "\n",
       "   release_year rating duration          listed_in  \\\n",
       "0          2016   TV-G   23 min  Animation, Family   \n",
       "\n",
       "                                        description  \n",
       "0  Join Mickey and the gang as they duck the halls!  "
      ]
     },
     "execution_count": 36,
     "metadata": {},
     "output_type": "execute_result"
    }
   ],
   "source": [
    "df.head(1)"
   ]
  },
  {
   "cell_type": "code",
   "execution_count": 37,
   "id": "99a6ccb0",
   "metadata": {},
   "outputs": [
    {
     "data": {
      "text/plain": [
       "(1444, 12)"
      ]
     },
     "execution_count": 37,
     "metadata": {},
     "output_type": "execute_result"
    }
   ],
   "source": [
    "# Delecting the missing value from these two columns(only 6 rows droped).\n",
    "df=df.dropna(subset=[\"date_added\",\"rating\"])\n",
    "df.shape"
   ]
  },
  {
   "cell_type": "code",
   "execution_count": 38,
   "id": "f77d2766",
   "metadata": {},
   "outputs": [
    {
     "name": "stdout",
     "output_type": "stream",
     "text": [
      "<class 'pandas.core.frame.DataFrame'>\n",
      "Int64Index: 1444 entries, 0 to 1449\n",
      "Data columns (total 14 columns):\n",
      " #   Column        Non-Null Count  Dtype         \n",
      "---  ------        --------------  -----         \n",
      " 0   show_id       1444 non-null   object        \n",
      " 1   type          1444 non-null   object        \n",
      " 2   title         1444 non-null   object        \n",
      " 3   director      976 non-null    object        \n",
      " 4   cast          1255 non-null   object        \n",
      " 5   country       1228 non-null   object        \n",
      " 6   date_added    1444 non-null   datetime64[ns]\n",
      " 7   release_year  1444 non-null   int64         \n",
      " 8   rating        1444 non-null   object        \n",
      " 9   duration      1444 non-null   object        \n",
      " 10  listed_in     1444 non-null   object        \n",
      " 11  description   1444 non-null   object        \n",
      " 12  Year          1444 non-null   int64         \n",
      " 13  Month         1444 non-null   int64         \n",
      "dtypes: datetime64[ns](1), int64(3), object(10)\n",
      "memory usage: 169.2+ KB\n"
     ]
    }
   ],
   "source": [
    "# Creating New columns form the Date column.\n",
    "df[\"Year\"]=df[\"date_added\"].dt.year\n",
    "df[\"Month\"]=df[\"date_added\"].dt.month\n",
    "df.info()"
   ]
  },
  {
   "cell_type": "code",
   "execution_count": 39,
   "id": "44619730",
   "metadata": {
    "collapsed": true
   },
   "outputs": [
    {
     "data": {
      "text/plain": [
       "array(['23 min', '91 min', '41 min', '94 min', '1 Season', '2 Seasons',\n",
       "       '45 min', '59 min', '4 min', '10 Seasons', '2 min', '1 min',\n",
       "       '8 min', '3 Seasons', '110 min', '11 min', '7 min', '95 min',\n",
       "       '129 min', '14 min', '5 min', '134 min', '9 min', '30 min',\n",
       "       '6 min', '22 min', '3 min', '87 min', '90 min', '93 min',\n",
       "       '101 min', '132 min', '44 min', '131 min', '104 min', '5 Seasons',\n",
       "       '52 min', '47 min', '53 min', '85 min', '92 min', '135 min',\n",
       "       '4 Seasons', '105 min', '99 min', '32 Seasons', '88 min',\n",
       "       '127 min', '106 min', '116 min', '42 min', '16 Seasons', '140 min',\n",
       "       '19 Seasons', '66 min', '115 min', '137 min', '9 Seasons',\n",
       "       '126 min', '82 min', '125 min', '54 min', '7 Seasons', '98 min',\n",
       "       '102 min', '80 min', '170 min', '97 min', '112 min', '21 min',\n",
       "       '20 min', '15 min', '19 min', '79 min', '6 Seasons', '89 min',\n",
       "       '18 min', '81 min', '148 min', '121 min', '96 min', '109 min',\n",
       "       '107 min', '86 min', '24 min', '8 Seasons', '12 min', '65 min',\n",
       "       '48 min', '111 min', '43 min', '180 min', '182 min', '60 min',\n",
       "       '50 min', '46 min', '123 min', '113 min', '117 min', '83 min',\n",
       "       '103 min', '122 min', '72 min', '143 min', '84 min', '128 min',\n",
       "       '138 min', '120 min', '118 min', '55 min', '56 min', '144 min',\n",
       "       '33 min', '100 min', '160 min', '49 min', '152 min', '75 min',\n",
       "       '108 min', '78 min', '119 min', '147 min', '142 min', '32 min',\n",
       "       '31 min', '27 min', '77 min', '25 min', '74 min', '62 min',\n",
       "       '71 min', '162 min', '73 min', '114 min', '10 min', '64 min',\n",
       "       '51 min', '151 min', '76 min', '26 min', '130 min', '70 min',\n",
       "       '13 min', '183 min', '150 min', '145 min', '67 min', '169 min',\n",
       "       '61 min', '63 min', '124 min', '139 min', '136 min', '58 min',\n",
       "       '69 min', '154 min', '175 min', '68 min'], dtype=object)"
      ]
     },
     "execution_count": 39,
     "metadata": {},
     "output_type": "execute_result"
    }
   ],
   "source": [
    "# creatind the Two columns for seprating the Duration(in \"Min\",\"Season\").\n",
    "df.duration.unique()\n",
    "#[for i in df.duration if i ]"
   ]
  },
  {
   "cell_type": "code",
   "execution_count": 40,
   "id": "9a698372",
   "metadata": {},
   "outputs": [],
   "source": [
    "# Creating differnt columns for series and movies time period.\n",
    "'''Min,Season=[],[]\n",
    "for i in df.duration:\n",
    "    if \"min\" in i:\n",
    "        Min.append(i)\n",
    "    else:\n",
    "        Min.append(\"0 min\")'''\n",
    "\n",
    "df[\"duration_min\"]=[i if \"min\" in i else \"0 min\" for i in df.duration]\n",
    "      \n",
    "        \n",
    "        \n",
    "'''for i in df.duration:\n",
    "    if \"Seasons\" in i:\n",
    "        Season.append(i)\n",
    "    else:\n",
    "        Season.append(\"0 Season\")'''\n",
    "\n",
    "df[\"duration_Season\"]=[i if \"Season\" in i else \"0 Season\" for i in df.duration]       \n",
    "    "
   ]
  },
  {
   "cell_type": "code",
   "execution_count": 41,
   "id": "47fd6eda",
   "metadata": {
    "collapsed": true
   },
   "outputs": [
    {
     "data": {
      "text/html": [
       "<div>\n",
       "<style scoped>\n",
       "    .dataframe tbody tr th:only-of-type {\n",
       "        vertical-align: middle;\n",
       "    }\n",
       "\n",
       "    .dataframe tbody tr th {\n",
       "        vertical-align: top;\n",
       "    }\n",
       "\n",
       "    .dataframe thead th {\n",
       "        text-align: right;\n",
       "    }\n",
       "</style>\n",
       "<table border=\"1\" class=\"dataframe\">\n",
       "  <thead>\n",
       "    <tr style=\"text-align: right;\">\n",
       "      <th></th>\n",
       "      <th>show_id</th>\n",
       "      <th>type</th>\n",
       "      <th>title</th>\n",
       "      <th>director</th>\n",
       "      <th>cast</th>\n",
       "      <th>country</th>\n",
       "      <th>date_added</th>\n",
       "      <th>release_year</th>\n",
       "      <th>rating</th>\n",
       "      <th>duration</th>\n",
       "      <th>listed_in</th>\n",
       "      <th>description</th>\n",
       "      <th>Year</th>\n",
       "      <th>Month</th>\n",
       "      <th>duration_min</th>\n",
       "      <th>duration_Season</th>\n",
       "    </tr>\n",
       "  </thead>\n",
       "  <tbody>\n",
       "    <tr>\n",
       "      <th>0</th>\n",
       "      <td>s1</td>\n",
       "      <td>Movie</td>\n",
       "      <td>Duck the Halls: A Mickey Mouse Christmas Special</td>\n",
       "      <td>Alonso Ramirez Ramos, Dave Wasson</td>\n",
       "      <td>Chris Diamantopoulos, Tony Anselmo, Tress MacN...</td>\n",
       "      <td>NaN</td>\n",
       "      <td>2021-11-26</td>\n",
       "      <td>2016</td>\n",
       "      <td>TV-G</td>\n",
       "      <td>23 min</td>\n",
       "      <td>Animation, Family</td>\n",
       "      <td>Join Mickey and the gang as they duck the halls!</td>\n",
       "      <td>2021</td>\n",
       "      <td>11</td>\n",
       "      <td>23 min</td>\n",
       "      <td>0 Season</td>\n",
       "    </tr>\n",
       "    <tr>\n",
       "      <th>1</th>\n",
       "      <td>s2</td>\n",
       "      <td>Movie</td>\n",
       "      <td>Ernest Saves Christmas</td>\n",
       "      <td>John Cherry</td>\n",
       "      <td>Jim Varney, Noelle Parker, Douglas Seale</td>\n",
       "      <td>NaN</td>\n",
       "      <td>2021-11-26</td>\n",
       "      <td>1988</td>\n",
       "      <td>PG</td>\n",
       "      <td>91 min</td>\n",
       "      <td>Comedy</td>\n",
       "      <td>Santa Claus passes his magic bag to a new St. ...</td>\n",
       "      <td>2021</td>\n",
       "      <td>11</td>\n",
       "      <td>91 min</td>\n",
       "      <td>0 Season</td>\n",
       "    </tr>\n",
       "    <tr>\n",
       "      <th>2</th>\n",
       "      <td>s3</td>\n",
       "      <td>Movie</td>\n",
       "      <td>Ice Age: A Mammoth Christmas</td>\n",
       "      <td>Karen Disher</td>\n",
       "      <td>Raymond Albert Romano, John Leguizamo, Denis L...</td>\n",
       "      <td>United States</td>\n",
       "      <td>2021-11-26</td>\n",
       "      <td>2011</td>\n",
       "      <td>TV-G</td>\n",
       "      <td>23 min</td>\n",
       "      <td>Animation, Comedy, Family</td>\n",
       "      <td>Sid the Sloth is on Santa's naughty list.</td>\n",
       "      <td>2021</td>\n",
       "      <td>11</td>\n",
       "      <td>23 min</td>\n",
       "      <td>0 Season</td>\n",
       "    </tr>\n",
       "  </tbody>\n",
       "</table>\n",
       "</div>"
      ],
      "text/plain": [
       "  show_id   type                                             title  \\\n",
       "0      s1  Movie  Duck the Halls: A Mickey Mouse Christmas Special   \n",
       "1      s2  Movie                            Ernest Saves Christmas   \n",
       "2      s3  Movie                      Ice Age: A Mammoth Christmas   \n",
       "\n",
       "                            director  \\\n",
       "0  Alonso Ramirez Ramos, Dave Wasson   \n",
       "1                        John Cherry   \n",
       "2                       Karen Disher   \n",
       "\n",
       "                                                cast        country  \\\n",
       "0  Chris Diamantopoulos, Tony Anselmo, Tress MacN...            NaN   \n",
       "1           Jim Varney, Noelle Parker, Douglas Seale            NaN   \n",
       "2  Raymond Albert Romano, John Leguizamo, Denis L...  United States   \n",
       "\n",
       "  date_added  release_year rating duration                  listed_in  \\\n",
       "0 2021-11-26          2016   TV-G   23 min          Animation, Family   \n",
       "1 2021-11-26          1988     PG   91 min                     Comedy   \n",
       "2 2021-11-26          2011   TV-G   23 min  Animation, Comedy, Family   \n",
       "\n",
       "                                         description  Year  Month  \\\n",
       "0   Join Mickey and the gang as they duck the halls!  2021     11   \n",
       "1  Santa Claus passes his magic bag to a new St. ...  2021     11   \n",
       "2          Sid the Sloth is on Santa's naughty list.  2021     11   \n",
       "\n",
       "  duration_min duration_Season  \n",
       "0       23 min        0 Season  \n",
       "1       91 min        0 Season  \n",
       "2       23 min        0 Season  "
      ]
     },
     "execution_count": 41,
     "metadata": {},
     "output_type": "execute_result"
    }
   ],
   "source": [
    "df.head(3)"
   ]
  },
  {
   "cell_type": "markdown",
   "id": "56309dcc",
   "metadata": {},
   "source": [
    "'TV-G': General audience. Suitable for all ages.\n",
    "\n",
    "'PG': Parental guidance suggested. Some material may not be suitable for children.\n",
    "\n",
    "'TV-PG': Parental guidance suggested for children. May contain material that parents may find unsuitable for younger children.\n",
    "\n",
    "'PG-13': Parents strongly cautioned. Some material may be inappropriate for children under 13.\n",
    "\n",
    "'TV-14': Parents strongly cautioned for children aged 14 and above. May contain content unsuitable for children under 14.\n",
    "\n",
    "'G': General audience. All ages admitted.\n",
    "\n",
    "'TV-Y7': Directed to children aged 7 and older. May be more appropriate for children who have reached the age of 7.\n",
    "\n",
    "'TV-Y': Directed to young children.\n",
    "\n",
    "'TV-Y7-FV': Directed to children aged 7 and older. Contains fantasy violence, which may be more intense or combative than other TV-Y7 programs."
   ]
  },
  {
   "cell_type": "markdown",
   "id": "1798ce46",
   "metadata": {},
   "source": [
    "\"date_added\": This attribute tells us when a particular movie or TV show was added to a specific streaming platform.\n",
    "              It indicates when the content became accessible to users for streaming or viewing on that platform.\n",
    "\n",
    "\"release_year\": This attribute represents the original release or premiere year of the movie or TV show.\n",
    "It tells us when the content was first made available to the public, regardless of the platform or distribution method."
   ]
  },
  {
   "cell_type": "code",
   "execution_count": 44,
   "id": "86739903",
   "metadata": {},
   "outputs": [
    {
     "data": {
      "text/plain": [
       "Text(0.5, 1.0, 'Number of Movies Released in Year')"
      ]
     },
     "execution_count": 44,
     "metadata": {},
     "output_type": "execute_result"
    },
    {
     "data": {
      "image/png": "[encoded data removed]",
      "text/plain": [
       "<Figure size 640x480 with 1 Axes>"
      ]
     },
     "metadata": {},
     "output_type": "display_data"
    }
   ],
   "source": [
    "# Filterning Data on the bases of the release year and ploting the graph b/w year and movies or shows released.\n",
    "p=df.release_year.groupby(df.release_year).count().sort_values(ascending=False).head(10).reset_index(name='count')\n",
    "sns.barplot(data=p,x=\"release_year\",y='count')\n",
    "plt.title(\"Number of Movies Released in Year\")"
   ]
  },
  {
   "cell_type": "markdown",
   "id": "7cbc3925",
   "metadata": {},
   "source": [
    "### 1.From This Information that tells that day by day Movies Content is increasing reapidly.\n",
    "### 2.In Last 10 years the content is just double.\n",
    "### 3.And Also that tells Market of movies are increasing so in future we can invest on that."
   ]
  },
  {
   "cell_type": "code",
   "execution_count": 45,
   "id": "2cf506ca",
   "metadata": {},
   "outputs": [
    {
     "data": {
      "text/html": [
       "<div>\n",
       "<style scoped>\n",
       "    .dataframe tbody tr th:only-of-type {\n",
       "        vertical-align: middle;\n",
       "    }\n",
       "\n",
       "    .dataframe tbody tr th {\n",
       "        vertical-align: top;\n",
       "    }\n",
       "\n",
       "    .dataframe thead th {\n",
       "        text-align: right;\n",
       "    }\n",
       "</style>\n",
       "<table border=\"1\" class=\"dataframe\">\n",
       "  <thead>\n",
       "    <tr style=\"text-align: right;\">\n",
       "      <th></th>\n",
       "      <th>listed_in</th>\n",
       "      <th>rating</th>\n",
       "      <th>count</th>\n",
       "    </tr>\n",
       "  </thead>\n",
       "  <tbody>\n",
       "    <tr>\n",
       "      <th>0</th>\n",
       "      <td>Animation, Comedy, Family</td>\n",
       "      <td>TV-G</td>\n",
       "      <td>66</td>\n",
       "    </tr>\n",
       "    <tr>\n",
       "      <th>1</th>\n",
       "      <td>Animation, Comedy, Family</td>\n",
       "      <td>G</td>\n",
       "      <td>31</td>\n",
       "    </tr>\n",
       "    <tr>\n",
       "      <th>2</th>\n",
       "      <td>Action-Adventure, Animation, Comedy</td>\n",
       "      <td>TV-Y7</td>\n",
       "      <td>30</td>\n",
       "    </tr>\n",
       "    <tr>\n",
       "      <th>3</th>\n",
       "      <td>Action-Adventure, Animation, Kids</td>\n",
       "      <td>TV-Y7</td>\n",
       "      <td>26</td>\n",
       "    </tr>\n",
       "    <tr>\n",
       "      <th>4</th>\n",
       "      <td>Animals &amp; Nature, Docuseries, Family</td>\n",
       "      <td>TV-PG</td>\n",
       "      <td>25</td>\n",
       "    </tr>\n",
       "    <tr>\n",
       "      <th>5</th>\n",
       "      <td>Action-Adventure, Animation, Family</td>\n",
       "      <td>G</td>\n",
       "      <td>24</td>\n",
       "    </tr>\n",
       "    <tr>\n",
       "      <th>6</th>\n",
       "      <td>Animals &amp; Nature, Documentary</td>\n",
       "      <td>TV-PG</td>\n",
       "      <td>22</td>\n",
       "    </tr>\n",
       "    <tr>\n",
       "      <th>7</th>\n",
       "      <td>Animals &amp; Nature, Documentary, Family</td>\n",
       "      <td>G</td>\n",
       "      <td>20</td>\n",
       "    </tr>\n",
       "    <tr>\n",
       "      <th>8</th>\n",
       "      <td>Animation, Family</td>\n",
       "      <td>TV-G</td>\n",
       "      <td>18</td>\n",
       "    </tr>\n",
       "    <tr>\n",
       "      <th>9</th>\n",
       "      <td>Action-Adventure, Animation, Comedy</td>\n",
       "      <td>G</td>\n",
       "      <td>18</td>\n",
       "    </tr>\n",
       "    <tr>\n",
       "      <th>10</th>\n",
       "      <td>Documentary</td>\n",
       "      <td>TV-PG</td>\n",
       "      <td>18</td>\n",
       "    </tr>\n",
       "    <tr>\n",
       "      <th>11</th>\n",
       "      <td>Documentary, Historical</td>\n",
       "      <td>TV-PG</td>\n",
       "      <td>17</td>\n",
       "    </tr>\n",
       "    <tr>\n",
       "      <th>12</th>\n",
       "      <td>Animals &amp; Nature, Documentary, Family</td>\n",
       "      <td>TV-PG</td>\n",
       "      <td>17</td>\n",
       "    </tr>\n",
       "    <tr>\n",
       "      <th>13</th>\n",
       "      <td>Comedy, Family</td>\n",
       "      <td>PG</td>\n",
       "      <td>17</td>\n",
       "    </tr>\n",
       "    <tr>\n",
       "      <th>14</th>\n",
       "      <td>Action-Adventure, Comedy, Family</td>\n",
       "      <td>PG</td>\n",
       "      <td>15</td>\n",
       "    </tr>\n",
       "  </tbody>\n",
       "</table>\n",
       "</div>"
      ],
      "text/plain": [
       "                                listed_in rating  count\n",
       "0               Animation, Comedy, Family   TV-G     66\n",
       "1               Animation, Comedy, Family      G     31\n",
       "2     Action-Adventure, Animation, Comedy  TV-Y7     30\n",
       "3       Action-Adventure, Animation, Kids  TV-Y7     26\n",
       "4    Animals & Nature, Docuseries, Family  TV-PG     25\n",
       "5     Action-Adventure, Animation, Family      G     24\n",
       "6           Animals & Nature, Documentary  TV-PG     22\n",
       "7   Animals & Nature, Documentary, Family      G     20\n",
       "8                       Animation, Family   TV-G     18\n",
       "9     Action-Adventure, Animation, Comedy      G     18\n",
       "10                            Documentary  TV-PG     18\n",
       "11                Documentary, Historical  TV-PG     17\n",
       "12  Animals & Nature, Documentary, Family  TV-PG     17\n",
       "13                         Comedy, Family     PG     17\n",
       "14       Action-Adventure, Comedy, Family     PG     15"
      ]
     },
     "execution_count": 45,
     "metadata": {},
     "output_type": "execute_result"
    }
   ],
   "source": [
    "o=df.groupby(['listed_in','rating'])['rating'].count().sort_values(ascending=False).reset_index(name='count').head(15)\n",
    "\n",
    "'''\n",
    "'TV-G': General audience. Suitable for all ages.\n",
    "'PG': Parental guidance suggested. Some material may not be suitable for children.\n",
    "'TV-PG': Parental guidance suggested for children. May contain material that parents may find unsuitable for younger children.\n",
    "'PG-13': Parents strongly cautioned. Some material may be inappropriate for children under 13.\n",
    "'TV-14': Parents strongly cautioned for children aged 14 and above. May contain content unsuitable for children under 14.\n",
    "'G': General audience. All ages admitted.\n",
    "'TV-Y7': Directed to children aged 7 and older. May be more appropriate for children who have reached the age of 7.\n",
    "'TV-Y': Directed to young children.\n",
    "'TV-Y7-FV': Directed to children aged 7 and older. Contains fantasy violence, which may be more intense or combative than other TV-Y7 programs.'''\n",
    "o"
   ]
  },
  {
   "cell_type": "code",
   "execution_count": 104,
   "id": "4df509a2",
   "metadata": {},
   "outputs": [
    {
     "data": {
      "text/plain": [
       "Text(0.5, 1.0, 'Number of Movies Types')"
      ]
     },
     "execution_count": 104,
     "metadata": {},
     "output_type": "execute_result"
    },
    {
     "data": {
      "image/png": "[encoded data removed]",
      "text/plain": [
       "<Figure size 640x480 with 1 Axes>"
      ]
     },
     "metadata": {},
     "output_type": "display_data"
    }
   ],
   "source": [
    "sns.barplot(data=o,x='count',y='listed_in',hue='rating')\n",
    "plt.title(\"Number of Movies Types\")"
   ]
  },
  {
   "cell_type": "markdown",
   "id": "22eb90a4",
   "metadata": {},
   "source": [
    "'TV-G': General audience. Suitable for all ages.\n",
    "'PG': Parental guidance suggested. Some material may not be suitable for children.\n",
    "'TV-PG': Parental guidance suggested for children. May contain material that parents may find unsuitable for younger children.\n",
    "'PG-13': Parents strongly cautioned. Some material may be inappropriate for children under 13.\n",
    "'TV-14': Parents strongly cautioned for children aged 14 and above. May contain content unsuitable for children under 14.\n",
    "'G': General audience. All ages admitted.\n",
    "'TV-Y7': Directed to children aged 7 and older. May be more appropriate for children who have reached the age of 7.\n",
    "'TV-Y': Directed to young children.\n",
    "'TV-Y7-FV': Directed to children aged 7 and older. Contains fantasy violence, which may be more intense or combative than other TV-Y7 programs.\n",
    "### From this Info that most of the content is of Animation ,Comedy, Family .\n",
    "### Mostly they are investing Money in Animation ,Comedy, Family content."
   ]
  },
  {
   "cell_type": "code",
   "execution_count": 47,
   "id": "aaab60fb",
   "metadata": {},
   "outputs": [
    {
     "data": {
      "text/html": [
       "<div>\n",
       "<style scoped>\n",
       "    .dataframe tbody tr th:only-of-type {\n",
       "        vertical-align: middle;\n",
       "    }\n",
       "\n",
       "    .dataframe tbody tr th {\n",
       "        vertical-align: top;\n",
       "    }\n",
       "\n",
       "    .dataframe thead th {\n",
       "        text-align: right;\n",
       "    }\n",
       "</style>\n",
       "<table border=\"1\" class=\"dataframe\">\n",
       "  <thead>\n",
       "    <tr style=\"text-align: right;\">\n",
       "      <th></th>\n",
       "      <th>show_id</th>\n",
       "      <th>type</th>\n",
       "      <th>title</th>\n",
       "      <th>director</th>\n",
       "      <th>cast</th>\n",
       "      <th>country</th>\n",
       "      <th>date_added</th>\n",
       "      <th>release_year</th>\n",
       "      <th>rating</th>\n",
       "      <th>duration</th>\n",
       "      <th>listed_in</th>\n",
       "      <th>description</th>\n",
       "      <th>Year</th>\n",
       "      <th>Month</th>\n",
       "      <th>duration_min</th>\n",
       "      <th>duration_Season</th>\n",
       "    </tr>\n",
       "  </thead>\n",
       "  <tbody>\n",
       "    <tr>\n",
       "      <th>0</th>\n",
       "      <td>s1</td>\n",
       "      <td>Movie</td>\n",
       "      <td>Duck the Halls: A Mickey Mouse Christmas Special</td>\n",
       "      <td>Alonso Ramirez Ramos, Dave Wasson</td>\n",
       "      <td>Chris Diamantopoulos, Tony Anselmo, Tress MacN...</td>\n",
       "      <td>NaN</td>\n",
       "      <td>2021-11-26</td>\n",
       "      <td>2016</td>\n",
       "      <td>TV-G</td>\n",
       "      <td>23 min</td>\n",
       "      <td>Animation, Family</td>\n",
       "      <td>Join Mickey and the gang as they duck the halls!</td>\n",
       "      <td>2021</td>\n",
       "      <td>11</td>\n",
       "      <td>23 min</td>\n",
       "      <td>0 Season</td>\n",
       "    </tr>\n",
       "    <tr>\n",
       "      <th>1</th>\n",
       "      <td>s2</td>\n",
       "      <td>Movie</td>\n",
       "      <td>Ernest Saves Christmas</td>\n",
       "      <td>John Cherry</td>\n",
       "      <td>Jim Varney, Noelle Parker, Douglas Seale</td>\n",
       "      <td>NaN</td>\n",
       "      <td>2021-11-26</td>\n",
       "      <td>1988</td>\n",
       "      <td>PG</td>\n",
       "      <td>91 min</td>\n",
       "      <td>Comedy</td>\n",
       "      <td>Santa Claus passes his magic bag to a new St. ...</td>\n",
       "      <td>2021</td>\n",
       "      <td>11</td>\n",
       "      <td>91 min</td>\n",
       "      <td>0 Season</td>\n",
       "    </tr>\n",
       "    <tr>\n",
       "      <th>2</th>\n",
       "      <td>s3</td>\n",
       "      <td>Movie</td>\n",
       "      <td>Ice Age: A Mammoth Christmas</td>\n",
       "      <td>Karen Disher</td>\n",
       "      <td>Raymond Albert Romano, John Leguizamo, Denis L...</td>\n",
       "      <td>United States</td>\n",
       "      <td>2021-11-26</td>\n",
       "      <td>2011</td>\n",
       "      <td>TV-G</td>\n",
       "      <td>23 min</td>\n",
       "      <td>Animation, Comedy, Family</td>\n",
       "      <td>Sid the Sloth is on Santa's naughty list.</td>\n",
       "      <td>2021</td>\n",
       "      <td>11</td>\n",
       "      <td>23 min</td>\n",
       "      <td>0 Season</td>\n",
       "    </tr>\n",
       "    <tr>\n",
       "      <th>3</th>\n",
       "      <td>s4</td>\n",
       "      <td>Movie</td>\n",
       "      <td>The Queen Family Singalong</td>\n",
       "      <td>Hamish Hamilton</td>\n",
       "      <td>Darren Criss, Adam Lambert, Derek Hough, Alexa...</td>\n",
       "      <td>NaN</td>\n",
       "      <td>2021-11-26</td>\n",
       "      <td>2021</td>\n",
       "      <td>TV-PG</td>\n",
       "      <td>41 min</td>\n",
       "      <td>Musical</td>\n",
       "      <td>This is real life, not just fantasy!</td>\n",
       "      <td>2021</td>\n",
       "      <td>11</td>\n",
       "      <td>41 min</td>\n",
       "      <td>0 Season</td>\n",
       "    </tr>\n",
       "    <tr>\n",
       "      <th>5</th>\n",
       "      <td>s6</td>\n",
       "      <td>Movie</td>\n",
       "      <td>Becoming Cousteau</td>\n",
       "      <td>Liz Garbus</td>\n",
       "      <td>Jacques Yves Cousteau, Vincent Cassel</td>\n",
       "      <td>United States</td>\n",
       "      <td>2021-11-24</td>\n",
       "      <td>2021</td>\n",
       "      <td>PG-13</td>\n",
       "      <td>94 min</td>\n",
       "      <td>Biographical, Documentary</td>\n",
       "      <td>An inside look at the legendary life of advent...</td>\n",
       "      <td>2021</td>\n",
       "      <td>11</td>\n",
       "      <td>94 min</td>\n",
       "      <td>0 Season</td>\n",
       "    </tr>\n",
       "  </tbody>\n",
       "</table>\n",
       "</div>"
      ],
      "text/plain": [
       "  show_id   type                                             title  \\\n",
       "0      s1  Movie  Duck the Halls: A Mickey Mouse Christmas Special   \n",
       "1      s2  Movie                            Ernest Saves Christmas   \n",
       "2      s3  Movie                      Ice Age: A Mammoth Christmas   \n",
       "3      s4  Movie                        The Queen Family Singalong   \n",
       "5      s6  Movie                                 Becoming Cousteau   \n",
       "\n",
       "                            director  \\\n",
       "0  Alonso Ramirez Ramos, Dave Wasson   \n",
       "1                        John Cherry   \n",
       "2                       Karen Disher   \n",
       "3                    Hamish Hamilton   \n",
       "5                         Liz Garbus   \n",
       "\n",
       "                                                cast        country  \\\n",
       "0  Chris Diamantopoulos, Tony Anselmo, Tress MacN...            NaN   \n",
       "1           Jim Varney, Noelle Parker, Douglas Seale            NaN   \n",
       "2  Raymond Albert Romano, John Leguizamo, Denis L...  United States   \n",
       "3  Darren Criss, Adam Lambert, Derek Hough, Alexa...            NaN   \n",
       "5              Jacques Yves Cousteau, Vincent Cassel  United States   \n",
       "\n",
       "  date_added  release_year rating duration                  listed_in  \\\n",
       "0 2021-11-26          2016   TV-G   23 min          Animation, Family   \n",
       "1 2021-11-26          1988     PG   91 min                     Comedy   \n",
       "2 2021-11-26          2011   TV-G   23 min  Animation, Comedy, Family   \n",
       "3 2021-11-26          2021  TV-PG   41 min                    Musical   \n",
       "5 2021-11-24          2021  PG-13   94 min  Biographical, Documentary   \n",
       "\n",
       "                                         description  Year  Month  \\\n",
       "0   Join Mickey and the gang as they duck the halls!  2021     11   \n",
       "1  Santa Claus passes his magic bag to a new St. ...  2021     11   \n",
       "2          Sid the Sloth is on Santa's naughty list.  2021     11   \n",
       "3               This is real life, not just fantasy!  2021     11   \n",
       "5  An inside look at the legendary life of advent...  2021     11   \n",
       "\n",
       "  duration_min duration_Season  \n",
       "0       23 min        0 Season  \n",
       "1       91 min        0 Season  \n",
       "2       23 min        0 Season  \n",
       "3       41 min        0 Season  \n",
       "5       94 min        0 Season  "
      ]
     },
     "execution_count": 47,
     "metadata": {},
     "output_type": "execute_result"
    }
   ],
   "source": [
    "df.head()"
   ]
  },
  {
   "cell_type": "code",
   "execution_count": 48,
   "id": "540c2825",
   "metadata": {},
   "outputs": [
    {
     "data": {
      "text/plain": [
       "array([ 1,  2,  3,  4,  5,  6,  7,  8,  9, 10, 11, 12], dtype=int64)"
      ]
     },
     "execution_count": 48,
     "metadata": {},
     "output_type": "execute_result"
    }
   ],
   "source": [
    "u=np.array(df.groupby(['Month'])['Month'].count().reset_index(name=\"count\"))\n",
    "u[:,0]"
   ]
  },
  {
   "cell_type": "code",
   "execution_count": 49,
   "id": "ebf498b3",
   "metadata": {},
   "outputs": [
    {
     "data": {
      "text/plain": [
       "Text(0.5, 1.0, 'Movies Released per Month')"
      ]
     },
     "execution_count": 49,
     "metadata": {},
     "output_type": "execute_result"
    },
    {
     "data": {
      "image/png": "[encoded data removed]",
      "text/plain": [
       "<Figure size 640x480 with 1 Axes>"
      ]
     },
     "metadata": {},
     "output_type": "display_data"
    }
   ],
   "source": [
    "plt.plot(u[:,0],u[:,1])\n",
    "plt.xlabel(\"Months\")\n",
    "plt.ylabel(\"No. of movies Released\")\n",
    "plt.title(\"Movies Released per Month\")"
   ]
  },
  {
   "cell_type": "markdown",
   "id": "4f043d9e",
   "metadata": {},
   "source": [
    "### By this the Mostly movies are released in November or Decmber month .\n",
    "### People are like to watch in this seasons because Most Holidays are that time ."
   ]
  },
  {
   "cell_type": "code",
   "execution_count": 50,
   "id": "3275a564",
   "metadata": {},
   "outputs": [
    {
     "data": {
      "image/png": "[encoded data removed]",
      "text/plain": [
       "<Figure size 640x480 with 1 Axes>"
      ]
     },
     "metadata": {},
     "output_type": "display_data"
    }
   ],
   "source": [
    "#grouped_t = df.groupby([\"release_year\",'type'])[\"release_year\"].count().tail(10)\n",
    "\n",
    "# Plotting a pie chart\n",
    "plt.pie(df.groupby([\"release_year\",'type'])[\"release_year\"].count().tail(10), labels=df.groupby([\"release_year\",'type'])[\"release_year\"].count().tail(10).index, autopct='%1.1f%%')\n",
    "plt.title('Count of Movies and TV Shows')\n",
    "plt.axis('equal')\n",
    "plt.show()"
   ]
  },
  {
   "cell_type": "markdown",
   "id": "299b91e3",
   "metadata": {},
   "source": [
    "### This will show that Movies and TV Shows content are reapidly incresing Every Year in comparision of Previously year. ."
   ]
  },
  {
   "cell_type": "code",
   "execution_count": 59,
   "id": "7e45fda7",
   "metadata": {},
   "outputs": [
    {
     "data": {
      "text/html": [
       "<div>\n",
       "<style scoped>\n",
       "    .dataframe tbody tr th:only-of-type {\n",
       "        vertical-align: middle;\n",
       "    }\n",
       "\n",
       "    .dataframe tbody tr th {\n",
       "        vertical-align: top;\n",
       "    }\n",
       "\n",
       "    .dataframe thead th {\n",
       "        text-align: right;\n",
       "    }\n",
       "</style>\n",
       "<table border=\"1\" class=\"dataframe\">\n",
       "  <thead>\n",
       "    <tr style=\"text-align: right;\">\n",
       "      <th></th>\n",
       "      <th>show_id</th>\n",
       "      <th>type</th>\n",
       "      <th>title</th>\n",
       "      <th>director</th>\n",
       "      <th>cast</th>\n",
       "      <th>country</th>\n",
       "      <th>date_added</th>\n",
       "      <th>release_year</th>\n",
       "      <th>rating</th>\n",
       "      <th>duration</th>\n",
       "      <th>listed_in</th>\n",
       "      <th>description</th>\n",
       "      <th>Year</th>\n",
       "      <th>Month</th>\n",
       "      <th>duration_min</th>\n",
       "      <th>duration_Season</th>\n",
       "    </tr>\n",
       "  </thead>\n",
       "  <tbody>\n",
       "    <tr>\n",
       "      <th>0</th>\n",
       "      <td>s1</td>\n",
       "      <td>Movie</td>\n",
       "      <td>Duck the Halls: A Mickey Mouse Christmas Special</td>\n",
       "      <td>Alonso Ramirez Ramos, Dave Wasson</td>\n",
       "      <td>Chris Diamantopoulos, Tony Anselmo, Tress MacN...</td>\n",
       "      <td>NaN</td>\n",
       "      <td>2021-11-26</td>\n",
       "      <td>2016</td>\n",
       "      <td>TV-G</td>\n",
       "      <td>23 min</td>\n",
       "      <td>Animation, Family</td>\n",
       "      <td>Join Mickey and the gang as they duck the halls!</td>\n",
       "      <td>2021</td>\n",
       "      <td>11</td>\n",
       "      <td>23 min</td>\n",
       "      <td>0 Season</td>\n",
       "    </tr>\n",
       "    <tr>\n",
       "      <th>1</th>\n",
       "      <td>s2</td>\n",
       "      <td>Movie</td>\n",
       "      <td>Ernest Saves Christmas</td>\n",
       "      <td>John Cherry</td>\n",
       "      <td>Jim Varney, Noelle Parker, Douglas Seale</td>\n",
       "      <td>NaN</td>\n",
       "      <td>2021-11-26</td>\n",
       "      <td>1988</td>\n",
       "      <td>PG</td>\n",
       "      <td>91 min</td>\n",
       "      <td>Comedy</td>\n",
       "      <td>Santa Claus passes his magic bag to a new St. ...</td>\n",
       "      <td>2021</td>\n",
       "      <td>11</td>\n",
       "      <td>91 min</td>\n",
       "      <td>0 Season</td>\n",
       "    </tr>\n",
       "  </tbody>\n",
       "</table>\n",
       "</div>"
      ],
      "text/plain": [
       "  show_id   type                                             title  \\\n",
       "0      s1  Movie  Duck the Halls: A Mickey Mouse Christmas Special   \n",
       "1      s2  Movie                            Ernest Saves Christmas   \n",
       "\n",
       "                            director  \\\n",
       "0  Alonso Ramirez Ramos, Dave Wasson   \n",
       "1                        John Cherry   \n",
       "\n",
       "                                                cast country date_added  \\\n",
       "0  Chris Diamantopoulos, Tony Anselmo, Tress MacN...     NaN 2021-11-26   \n",
       "1           Jim Varney, Noelle Parker, Douglas Seale     NaN 2021-11-26   \n",
       "\n",
       "   release_year rating duration          listed_in  \\\n",
       "0          2016   TV-G   23 min  Animation, Family   \n",
       "1          1988     PG   91 min             Comedy   \n",
       "\n",
       "                                         description  Year  Month  \\\n",
       "0   Join Mickey and the gang as they duck the halls!  2021     11   \n",
       "1  Santa Claus passes his magic bag to a new St. ...  2021     11   \n",
       "\n",
       "  duration_min duration_Season  \n",
       "0       23 min        0 Season  \n",
       "1       91 min        0 Season  "
      ]
     },
     "execution_count": 59,
     "metadata": {},
     "output_type": "execute_result"
    }
   ],
   "source": [
    "df.head(2)"
   ]
  },
  {
   "cell_type": "code",
   "execution_count": 66,
   "id": "0d01b6f8",
   "metadata": {},
   "outputs": [
    {
     "data": {
      "text/plain": [
       "United States                               1003\n",
       "United States, Canada                         30\n",
       "United Kingdom                                23\n",
       "United States, United Kingdom                 22\n",
       "Canada, United States                         17\n",
       "United Kingdom, United States                 14\n",
       "United States, Australia                       8\n",
       "Canada                                         5\n",
       "United States, United Kingdom, Australia       4\n",
       "United States, France                          4\n",
       "Name: country, dtype: int64"
      ]
     },
     "execution_count": 66,
     "metadata": {},
     "output_type": "execute_result"
    }
   ],
   "source": [
    "df.country.value_counts().sort_values(ascending=False).head(10)"
   ]
  },
  {
   "cell_type": "code",
   "execution_count": 75,
   "id": "c7b08b7b",
   "metadata": {},
   "outputs": [
    {
     "data": {
      "text/plain": [
       "<AxesSubplot: xlabel='rating', ylabel='count'>"
      ]
     },
     "execution_count": 75,
     "metadata": {},
     "output_type": "execute_result"
    },
    {
     "data": {
      "image/png": "[encoded data removed]",
      "text/plain": [
       "<Figure size 640x480 with 1 Axes>"
      ]
     },
     "metadata": {},
     "output_type": "display_data"
    }
   ],
   "source": [
    "# Form this our content is mostly based on TV-G,TV-PG,G,PG.\n",
    "sns.countplot(data=df,x='rating',hue='rating')"
   ]
  },
  {
   "cell_type": "markdown",
   "id": "5f2ca438",
   "metadata": {},
   "source": [
    "### Form this our content is mostly based on TV-G,TV-PG,G,PG."
   ]
  },
  {
   "cell_type": "code",
   "execution_count": 90,
   "id": "4204f527",
   "metadata": {},
   "outputs": [
    {
     "data": {
      "image/png": "[encoded data removed]",
      "text/plain": [
       "<Figure size 640x480 with 2 Axes>"
      ]
     },
     "metadata": {},
     "output_type": "display_data"
    }
   ],
   "source": [
    "f,axes=plt.subplots(1,2)\n",
    "\n",
    "sns.countplot(data=df[df[\"country\"]==\"United States\"],y='rating',hue='rating' ,ax=axes[0])\n",
    "sns.countplot(data=df[df[\"country\"]==\"United States, Canada\"],y='rating',hue='rating',ax=axes[1])\n",
    "axes[0].set_title(\"United States Data\")\n",
    "axes[1].set_title(\"United States, Canada Data\")\n",
    "# set spacing\n",
    "f.tight_layout()"
   ]
  },
  {
   "cell_type": "markdown",
   "id": "9cbdb81d",
   "metadata": {},
   "source": [
    "### US and Canada are creating Mostly : TV-G,TV-PG,G,PG."
   ]
  },
  {
   "cell_type": "code",
   "execution_count": 119,
   "id": "0c4a9af9",
   "metadata": {},
   "outputs": [
    {
     "data": {
      "text/plain": [
       "Text(0.5, 1.0, 'Movie Vs TV Show')"
      ]
     },
     "execution_count": 119,
     "metadata": {},
     "output_type": "execute_result"
    },
    {
     "data": {
      "image/png": "[encoded data removed]",
      "text/plain": [
       "<Figure size 640x480 with 1 Axes>"
      ]
     },
     "metadata": {},
     "output_type": "display_data"
    }
   ],
   "source": [
    "sns.barplot(data=df.type.value_counts().reset_index(name=\"count\"),y=\"index\",x='count')\n",
    "plt.ylabel(\"Type of Content\")\n",
    "plt.xlabel('Number of count')\n",
    "plt.title(\"Movie Vs TV Show\")"
   ]
  },
  {
   "cell_type": "code",
   "execution_count": 164,
   "id": "bf966cf9",
   "metadata": {
    "scrolled": true
   },
   "outputs": [
    {
     "data": {
      "application/vnd.plotly.v1+json": {
       "config": {
        "plotlyServerURL": "https://plot.ly"
       },
       "data": [
        {
         "alignmentgroup": "True",
         "bingroup": "x",
         "hovertemplate": "type=Movie<br>value=%{x}<br>count=%{y}<extra></extra>",
         "legendgroup": "Movie",
         "marker": {
          "color": "#636efa",
          "pattern": {
           "shape": ""
          }
         },
         "name": "Movie",
         "offsetgroup": "Movie",
         "orientation": "v",
         "showlegend": true,
         "type": "histogram",
         "x": [
          "TV-G",
          "PG",
          "TV-G",
          "TV-PG",
          "PG-13",
          "G",
          "TV-PG",
          "TV-G",
          "G",
          "TV-PG",
          "TV-G",
          "TV-PG",
          "PG",
          "G",
          "G",
          "G",
          "PG",
          "PG-13",
          "TV-14",
          "TV-PG",
          "TV-PG",
          "G",
          "G",
          "PG-13",
          "TV-G",
          "G",
          "G",
          "G",
          "TV-PG",
          "TV-G",
          "TV-PG",
          "G",
          "TV-PG",
          "TV-PG",
          "G",
          "PG",
          "PG",
          "TV-G",
          "G",
          "G",
          "G",
          "G",
          "PG-13",
          "TV-PG",
          "PG",
          "PG",
          "G",
          "TV-PG",
          "TV-PG",
          "G",
          "TV-Y",
          "TV-PG",
          "TV-PG",
          "TV-G",
          "PG-13",
          "PG-13",
          "PG",
          "PG",
          "TV-Y7-FV",
          "PG",
          "TV-G",
          "TV-PG",
          "G",
          "PG-13",
          "PG",
          "TV-G",
          "TV-G",
          "TV-PG",
          "TV-PG",
          "G",
          "TV-PG",
          "TV-G",
          "PG-13",
          "PG",
          "TV-14",
          "PG-13",
          "PG-13",
          "PG-13",
          "TV-G",
          "TV-14",
          "PG",
          "PG",
          "PG-13",
          "PG-13",
          "G",
          "G",
          "TV-14",
          "PG-13",
          "TV-PG",
          "PG",
          "PG",
          "TV-14",
          "TV-14",
          "TV-PG",
          "TV-14",
          "PG",
          "TV-PG",
          "TV-PG",
          "TV-14",
          "TV-14",
          "TV-PG",
          "PG",
          "TV-PG",
          "TV-14",
          "PG",
          "TV-Y7-FV",
          "TV-14",
          "TV-14",
          "TV-PG",
          "TV-14",
          "TV-14",
          "TV-PG",
          "PG",
          "PG",
          "TV-PG",
          "TV-PG",
          "PG",
          "PG",
          "G",
          "PG",
          "PG",
          "PG-13",
          "G",
          "G",
          "TV-PG",
          "TV-PG",
          "PG",
          "TV-PG",
          "PG",
          "G",
          "PG-13",
          "PG",
          "G",
          "TV-PG",
          "TV-G",
          "TV-PG",
          "TV-PG",
          "TV-PG",
          "PG",
          "TV-14",
          "G",
          "PG",
          "G",
          "PG",
          "TV-PG",
          "PG",
          "TV-PG",
          "PG",
          "TV-PG",
          "TV-PG",
          "G",
          "PG",
          "TV-PG",
          "TV-Y7-FV",
          "PG",
          "TV-14",
          "G",
          "G",
          "TV-Y",
          "PG-13",
          "TV-14",
          "PG",
          "TV-G",
          "TV-PG",
          "TV-G",
          "PG",
          "PG",
          "PG",
          "PG",
          "TV-14",
          "G",
          "PG",
          "TV-PG",
          "TV-PG",
          "TV-PG",
          "TV-14",
          "TV-PG",
          "PG-13",
          "PG",
          "PG",
          "TV-G",
          "TV-PG",
          "TV-14",
          "G",
          "TV-PG",
          "TV-PG",
          "G",
          "PG",
          "PG",
          "TV-G",
          "TV-PG",
          "TV-G",
          "PG",
          "TV-Y7-FV",
          "TV-G",
          "TV-G",
          "TV-14",
          "TV-G",
          "PG",
          "PG",
          "G",
          "PG",
          "TV-PG",
          "PG-13",
          "PG",
          "TV-G",
          "PG",
          "PG",
          "TV-PG",
          "TV-G",
          "TV-14",
          "PG",
          "PG",
          "TV-PG",
          "TV-Y7-FV",
          "PG",
          "PG",
          "PG",
          "TV-G",
          "TV-PG",
          "PG",
          "PG",
          "TV-G",
          "TV-G",
          "TV-G",
          "PG",
          "TV-PG",
          "TV-PG",
          "TV-G",
          "PG",
          "PG-13",
          "TV-14",
          "PG",
          "TV-PG",
          "PG",
          "TV-14",
          "PG-13",
          "PG",
          "G",
          "PG",
          "TV-PG",
          "TV-PG",
          "PG-13",
          "PG",
          "TV-PG",
          "PG",
          "PG",
          "PG",
          "TV-G",
          "PG",
          "TV-G",
          "TV-PG",
          "PG",
          "TV-PG",
          "PG",
          "TV-G",
          "TV-14",
          "PG",
          "PG-13",
          "PG",
          "TV-PG",
          "PG-13",
          "TV-PG",
          "TV-PG",
          "G",
          "TV-PG",
          "TV-14",
          "TV-PG",
          "TV-PG",
          "PG",
          "TV-PG",
          "TV-PG",
          "PG-13",
          "TV-PG",
          "PG",
          "TV-14",
          "TV-PG",
          "PG-13",
          "TV-PG",
          "PG-13",
          "PG-13",
          "TV-PG",
          "PG",
          "PG-13",
          "PG",
          "PG",
          "PG",
          "PG",
          "PG",
          "TV-PG",
          "TV-G",
          "PG-13",
          "G",
          "G",
          "TV-PG",
          "TV-PG",
          "PG",
          "G",
          "TV-G",
          "TV-G",
          "PG",
          "TV-PG",
          "TV-PG",
          "PG",
          "TV-PG",
          "TV-PG",
          "PG",
          "TV-PG",
          "PG",
          "TV-G",
          "PG",
          "PG",
          "G",
          "PG",
          "PG",
          "PG",
          "PG-13",
          "PG-13",
          "TV-PG",
          "PG",
          "G",
          "G",
          "TV-G",
          "TV-PG",
          "TV-PG",
          "TV-Y7",
          "PG",
          "TV-G",
          "PG",
          "TV-PG",
          "TV-G",
          "TV-14",
          "TV-G",
          "TV-G",
          "TV-PG",
          "G",
          "G",
          "TV-G",
          "G",
          "G",
          "G",
          "TV-G",
          "TV-G",
          "TV-G",
          "TV-G",
          "G",
          "TV-G",
          "TV-G",
          "G",
          "TV-G",
          "TV-G",
          "PG",
          "TV-G",
          "G",
          "TV-G",
          "TV-PG",
          "TV-PG",
          "TV-G",
          "TV-PG",
          "G",
          "PG",
          "PG",
          "PG",
          "PG",
          "PG",
          "PG",
          "PG",
          "PG",
          "PG",
          "PG-13",
          "PG",
          "PG",
          "PG-13",
          "TV-G",
          "TV-PG",
          "TV-Y7",
          "TV-Y7",
          "PG",
          "PG",
          "TV-PG",
          "TV-PG",
          "PG",
          "G",
          "TV-G",
          "PG",
          "PG",
          "TV-G",
          "PG",
          "PG",
          "TV-G",
          "PG",
          "PG",
          "TV-G",
          "TV-G",
          "TV-G",
          "TV-Y7",
          "TV-G",
          "TV-G",
          "G",
          "TV-Y7",
          "TV-G",
          "PG",
          "TV-PG",
          "TV-PG",
          "TV-PG",
          "TV-PG",
          "TV-14",
          "TV-PG",
          "TV-PG",
          "PG",
          "TV-PG",
          "TV-Y7",
          "G",
          "TV-G",
          "PG-13",
          "TV-G",
          "PG",
          "TV-G",
          "PG",
          "TV-G",
          "G",
          "TV-G",
          "PG-13",
          "TV-PG",
          "TV-PG",
          "PG",
          "TV-14",
          "TV-Y7-FV",
          "TV-Y7",
          "TV-PG",
          "PG",
          "PG",
          "TV-G",
          "TV-PG",
          "TV-G",
          "TV-G",
          "TV-G",
          "PG-13",
          "G",
          "G",
          "G",
          "TV-PG",
          "G",
          "G",
          "G",
          "PG",
          "TV-G",
          "TV-G",
          "G",
          "G",
          "G",
          "G",
          "G",
          "TV-G",
          "TV-PG",
          "PG",
          "G",
          "G",
          "TV-PG",
          "TV-PG",
          "TV-PG",
          "G",
          "PG",
          "TV-G",
          "PG-13",
          "TV-Y7",
          "TV-PG",
          "G",
          "G",
          "G",
          "TV-G",
          "TV-PG",
          "G",
          "G",
          "TV-G",
          "TV-14",
          "G",
          "PG",
          "TV-PG",
          "PG",
          "TV-G",
          "PG",
          "TV-G",
          "G",
          "PG",
          "TV-G",
          "TV-PG",
          "TV-G",
          "G",
          "G",
          "TV-G",
          "TV-G",
          "TV-G",
          "PG",
          "TV-G",
          "TV-G",
          "TV-PG",
          "G",
          "TV-G",
          "G",
          "G",
          "G",
          "TV-G",
          "TV-G",
          "TV-G",
          "TV-Y7",
          "TV-Y7",
          "TV-Y7",
          "TV-Y7",
          "TV-PG",
          "G",
          "TV-G",
          "G",
          "TV-G",
          "G",
          "G",
          "G",
          "TV-G",
          "TV-G",
          "G",
          "PG",
          "TV-G",
          "TV-G",
          "TV-G",
          "G",
          "G",
          "PG",
          "G",
          "TV-PG",
          "G",
          "TV-G",
          "PG",
          "PG",
          "TV-G",
          "TV-G",
          "TV-G",
          "TV-G",
          "TV-G",
          "TV-PG",
          "TV-G",
          "TV-PG",
          "TV-PG",
          "PG",
          "TV-PG",
          "G",
          "G",
          "G",
          "G",
          "G",
          "G",
          "G",
          "TV-PG",
          "TV-G",
          "TV-G",
          "TV-G",
          "G",
          "G",
          "TV-PG",
          "PG",
          "TV-G",
          "TV-PG",
          "TV-14",
          "TV-G",
          "PG",
          "TV-PG",
          "TV-14",
          "G",
          "TV-PG",
          "G",
          "G",
          "TV-G",
          "PG",
          "G",
          "PG",
          "PG",
          "PG",
          "TV-Y7",
          "PG",
          "TV-G",
          "G",
          "TV-G",
          "PG",
          "PG",
          "PG",
          "TV-PG",
          "TV-G",
          "PG",
          "TV-G",
          "G",
          "TV-G",
          "TV-G",
          "TV-G",
          "TV-G",
          "G",
          "TV-G",
          "TV-PG",
          "TV-G",
          "TV-G",
          "TV-G",
          "TV-G",
          "TV-G",
          "TV-G",
          "TV-G",
          "G",
          "TV-PG",
          "TV-G",
          "TV-PG",
          "G",
          "G",
          "TV-G",
          "TV-G",
          "PG",
          "G",
          "G",
          "G",
          "G",
          "TV-G",
          "TV-G",
          "G",
          "PG",
          "PG",
          "PG",
          "PG",
          "PG",
          "TV-G",
          "TV-G",
          "TV-PG",
          "TV-G",
          "TV-G",
          "TV-G",
          "PG",
          "TV-G",
          "G",
          "G",
          "PG",
          "PG",
          "G",
          "TV-PG",
          "TV-PG",
          "PG",
          "TV-G",
          "PG",
          "PG-13",
          "G",
          "PG",
          "PG",
          "TV-14",
          "TV-G",
          "TV-G",
          "G",
          "TV-G",
          "G",
          "TV-G",
          "TV-G",
          "PG",
          "TV-PG",
          "PG",
          "TV-G",
          "TV-G",
          "TV-PG",
          "TV-PG",
          "PG",
          "G",
          "G",
          "G",
          "PG",
          "G",
          "TV-Y7",
          "TV-Y7",
          "TV-Y7",
          "TV-Y7",
          "TV-Y7",
          "TV-G",
          "TV-Y7",
          "G",
          "TV-G",
          "TV-G",
          "PG",
          "TV-14",
          "G",
          "TV-PG",
          "PG",
          "TV-Y7",
          "G",
          "TV-G",
          "G",
          "TV-PG",
          "TV-G",
          "TV-PG",
          "TV-PG",
          "TV-Y7-FV",
          "TV-PG",
          "TV-PG",
          "PG-13",
          "PG-13",
          "PG-13",
          "PG-13",
          "PG-13",
          "PG-13",
          "PG-13",
          "PG-13",
          "PG-13",
          "PG-13",
          "PG-13",
          "PG-13",
          "PG-13",
          "PG-13",
          "PG-13",
          "PG-13",
          "G",
          "TV-Y7",
          "PG",
          "G",
          "TV-PG",
          "TV-G",
          "G",
          "TV-G",
          "G",
          "TV-G",
          "TV-G",
          "TV-G",
          "TV-PG",
          "G",
          "PG",
          "TV-G",
          "TV-G",
          "PG",
          "TV-14",
          "TV-G",
          "TV-G",
          "TV-PG",
          "PG",
          "TV-PG",
          "G",
          "G",
          "TV-G",
          "TV-PG",
          "TV-G",
          "TV-G",
          "G",
          "G",
          "PG",
          "PG",
          "PG",
          "PG",
          "PG",
          "G",
          "TV-G",
          "G",
          "G",
          "G",
          "TV-PG",
          "G",
          "G",
          "PG",
          "TV-PG",
          "G",
          "PG",
          "G",
          "PG",
          "G",
          "G",
          "TV-G",
          "TV-G",
          "TV-G",
          "G",
          "G",
          "G",
          "PG-13",
          "PG-13",
          "PG-13",
          "TV-G",
          "TV-PG",
          "TV-PG",
          "TV-Y7",
          "TV-G",
          "TV-G",
          "G",
          "G",
          "G",
          "TV-G",
          "G",
          "G",
          "TV-G",
          "PG",
          "PG",
          "TV-G",
          "G",
          "TV-G",
          "TV-G",
          "G",
          "G",
          "G",
          "TV-G",
          "PG",
          "TV-G",
          "G",
          "TV-PG",
          "PG",
          "G",
          "TV-G",
          "G",
          "TV-G",
          "G",
          "PG-13",
          "G",
          "TV-PG",
          "G",
          "TV-PG",
          "TV-G",
          "PG",
          "G",
          "TV-G",
          "PG-13",
          "PG",
          "TV-PG",
          "G",
          "PG",
          "TV-PG",
          "TV-PG",
          "TV-PG",
          "TV-PG",
          "TV-G",
          "PG",
          "PG-13",
          "PG",
          "PG",
          "TV-PG",
          "G",
          "TV-G",
          "PG",
          "G",
          "G",
          "TV-PG",
          "TV-G",
          "PG",
          "PG",
          "PG",
          "PG-13",
          "PG",
          "PG-13",
          "PG",
          "TV-G",
          "TV-Y7",
          "TV-G",
          "G",
          "TV-PG",
          "TV-G",
          "TV-PG",
          "G",
          "PG",
          "PG",
          "PG",
          "TV-Y7",
          "TV-PG",
          "PG",
          "TV-G",
          "TV-G",
          "TV-14",
          "PG",
          "G",
          "G",
          "TV-G",
          "TV-PG",
          "PG",
          "G",
          "G",
          "G",
          "G",
          "G",
          "TV-G",
          "TV-Y7",
          "TV-PG",
          "TV-Y7",
          "G",
          "PG",
          "PG",
          "G",
          "TV-G",
          "G",
          "TV-G",
          "TV-G",
          "TV-G",
          "TV-G",
          "PG",
          "PG",
          "TV-G",
          "G",
          "G",
          "G",
          "TV-G",
          "TV-PG",
          "G",
          "G",
          "PG",
          "TV-PG",
          "TV-Y7",
          "TV-Y7",
          "PG",
          "G",
          "PG",
          "PG",
          "TV-G",
          "G",
          "G",
          "G",
          "PG",
          "PG",
          "G",
          "G",
          "TV-G",
          "G",
          "G",
          "G",
          "G",
          "G",
          "TV-Y7",
          "G",
          "PG",
          "TV-PG",
          "G",
          "TV-Y",
          "G",
          "TV-PG",
          "G",
          "G",
          "PG",
          "TV-Y7",
          "TV-G",
          "PG",
          "G",
          "TV-G",
          "TV-PG",
          "TV-G",
          "G",
          "G",
          "G",
          "G",
          "TV-G",
          "G",
          "G",
          "G",
          "G",
          "PG",
          "G",
          "G",
          "TV-PG",
          "G",
          "G",
          "G",
          "G",
          "TV-G",
          "G",
          "PG",
          "G",
          "TV-G",
          "TV-G",
          "TV-G",
          "G",
          "PG",
          "G",
          "TV-G",
          "TV-G",
          "TV-Y7",
          "TV-G",
          "G",
          "G",
          "TV-G",
          "TV-G",
          "G",
          "TV-Y7",
          "TV-G",
          "TV-Y7",
          "TV-Y7",
          "PG",
          "PG",
          "TV-G",
          "TV-PG",
          "PG",
          "TV-G",
          "G",
          "G",
          "G",
          "TV-PG",
          "TV-Y7",
          "PG",
          "G",
          "G",
          "G",
          "G",
          "G",
          "G",
          "G",
          "TV-G",
          "PG",
          "G",
          "PG",
          "TV-PG",
          "PG",
          "TV-G",
          "PG",
          "TV-G",
          "TV-G",
          "TV-PG",
          "TV-PG",
          "G",
          "PG",
          "TV-G",
          "G",
          "PG",
          "G",
          "TV-PG",
          "G",
          "PG",
          "PG",
          "TV-PG",
          "G",
          "G",
          "G",
          "TV-G",
          "TV-G",
          "TV-PG",
          "PG",
          "TV-Y7",
          "TV-PG",
          "TV-G",
          "TV-G",
          "TV-G",
          "TV-G",
          "TV-G",
          "TV-G",
          "TV-G",
          "TV-G",
          "PG",
          "G",
          "G",
          "TV-PG",
          "TV-G",
          "G",
          "G",
          "G",
          "G",
          "PG",
          "PG",
          "PG",
          "PG",
          "PG-13",
          "PG",
          "PG-13",
          "PG-13",
          "TV-G"
         ],
         "xaxis": "x",
         "yaxis": "y"
        },
        {
         "alignmentgroup": "True",
         "bingroup": "x",
         "hovertemplate": "type=TV Show<br>value=%{x}<br>count=%{y}<extra></extra>",
         "legendgroup": "TV Show",
         "marker": {
          "color": "#EF553B",
          "pattern": {
           "shape": ""
          }
         },
         "name": "TV Show",
         "offsetgroup": "TV Show",
         "orientation": "v",
         "showlegend": true,
         "type": "histogram",
         "x": [
          "TV-14",
          "TV-14",
          "TV-PG",
          "TV-PG",
          "TV-PG",
          "TV-PG",
          "TV-PG",
          "TV-Y7",
          "TV-PG",
          "TV-14",
          "TV-Y7",
          "TV-PG",
          "TV-PG",
          "TV-PG",
          "TV-14",
          "TV-14",
          "TV-PG",
          "TV-G",
          "TV-PG",
          "TV-PG",
          "TV-14",
          "TV-14",
          "TV-Y7",
          "TV-Y7",
          "TV-G",
          "TV-PG",
          "TV-Y",
          "TV-Y",
          "TV-PG",
          "TV-14",
          "TV-PG",
          "TV-PG",
          "TV-Y",
          "TV-PG",
          "TV-14",
          "TV-Y7",
          "TV-14",
          "TV-PG",
          "TV-Y",
          "TV-Y",
          "TV-14",
          "TV-PG",
          "TV-PG",
          "TV-14",
          "TV-Y",
          "TV-14",
          "TV-PG",
          "TV-PG",
          "TV-Y",
          "TV-G",
          "TV-G",
          "TV-14",
          "TV-14",
          "PG",
          "TV-Y7",
          "TV-14",
          "TV-Y",
          "TV-Y",
          "TV-Y7",
          "TV-PG",
          "TV-PG",
          "TV-Y7",
          "TV-Y",
          "TV-Y",
          "TV-PG",
          "TV-14",
          "TV-G",
          "TV-14",
          "TV-14",
          "TV-Y",
          "TV-G",
          "TV-G",
          "TV-PG",
          "TV-PG",
          "TV-Y",
          "TV-Y7",
          "TV-14",
          "TV-Y7-FV",
          "TV-G",
          "TV-G",
          "TV-14",
          "TV-14",
          "TV-Y",
          "TV-Y",
          "TV-G",
          "TV-PG",
          "TV-14",
          "TV-Y7",
          "TV-Y7",
          "TV-14",
          "TV-G",
          "TV-Y",
          "TV-14",
          "TV-Y",
          "TV-Y7",
          "TV-Y7",
          "TV-G",
          "TV-PG",
          "TV-Y7",
          "TV-G",
          "TV-Y7",
          "TV-G",
          "TV-PG",
          "TV-PG",
          "TV-G",
          "TV-PG",
          "TV-Y7",
          "TV-Y7",
          "TV-Y",
          "TV-PG",
          "TV-PG",
          "TV-Y7-FV",
          "TV-Y7-FV",
          "TV-Y7",
          "TV-Y7",
          "TV-PG",
          "TV-G",
          "TV-PG",
          "TV-14",
          "TV-Y7",
          "TV-PG",
          "TV-G",
          "TV-Y7",
          "TV-G",
          "TV-G",
          "TV-Y7",
          "TV-PG",
          "TV-PG",
          "TV-Y7-FV",
          "TV-14",
          "TV-PG",
          "TV-PG",
          "TV-Y7",
          "TV-14",
          "TV-G",
          "TV-14",
          "TV-14",
          "TV-PG",
          "TV-G",
          "TV-PG",
          "TV-PG",
          "TV-PG",
          "TV-G",
          "TV-G",
          "TV-14",
          "TV-G",
          "TV-PG",
          "TV-Y",
          "TV-Y",
          "TV-14",
          "TV-PG",
          "TV-PG",
          "TV-PG",
          "TV-Y",
          "TV-PG",
          "TV-Y",
          "TV-14",
          "TV-PG",
          "TV-PG",
          "TV-14",
          "TV-PG",
          "TV-G",
          "TV-G",
          "TV-14",
          "TV-PG",
          "TV-G",
          "TV-G",
          "TV-PG",
          "TV-G",
          "TV-Y",
          "TV-PG",
          "TV-G",
          "TV-G",
          "TV-G",
          "TV-G",
          "TV-G",
          "TV-PG",
          "TV-PG",
          "TV-G",
          "TV-G",
          "TV-G",
          "TV-PG",
          "TV-PG",
          "TV-Y7",
          "TV-PG",
          "TV-G",
          "TV-Y",
          "TV-PG",
          "TV-PG",
          "TV-PG",
          "TV-Y",
          "TV-Y7",
          "TV-PG",
          "TV-PG",
          "TV-PG",
          "TV-G",
          "TV-PG",
          "TV-Y7",
          "TV-Y",
          "TV-Y7",
          "TV-PG",
          "TV-PG",
          "TV-PG",
          "TV-PG",
          "TV-PG",
          "TV-PG",
          "TV-PG",
          "TV-Y7",
          "TV-Y7",
          "TV-PG",
          "TV-PG",
          "TV-PG",
          "TV-G",
          "TV-PG",
          "TV-PG",
          "TV-PG",
          "TV-PG",
          "TV-PG",
          "TV-PG",
          "TV-G",
          "TV-PG",
          "TV-Y7",
          "TV-G",
          "TV-Y",
          "TV-Y7",
          "TV-Y",
          "TV-PG",
          "TV-PG",
          "TV-G",
          "TV-G",
          "TV-G",
          "TV-G",
          "TV-PG",
          "TV-Y7",
          "TV-Y7",
          "TV-G",
          "TV-Y7",
          "TV-PG",
          "TV-PG",
          "TV-PG",
          "TV-G",
          "TV-PG",
          "TV-PG",
          "TV-14",
          "TV-PG",
          "TV-Y7",
          "TV-Y7",
          "TV-G",
          "TV-PG",
          "TV-14",
          "TV-G",
          "TV-Y7",
          "TV-Y7",
          "TV-PG",
          "TV-14",
          "TV-G",
          "TV-Y7",
          "TV-PG",
          "TV-PG",
          "TV-PG",
          "TV-Y",
          "TV-Y7",
          "TV-Y",
          "TV-Y",
          "TV-Y",
          "TV-PG",
          "TV-Y",
          "TV-G",
          "TV-G",
          "TV-Y7",
          "TV-Y7",
          "TV-G",
          "TV-PG",
          "TV-G",
          "TV-G",
          "TV-G",
          "TV-Y7",
          "TV-Y7",
          "TV-PG",
          "TV-G",
          "TV-Y7",
          "TV-PG",
          "TV-G",
          "TV-G",
          "TV-Y7",
          "TV-G",
          "TV-Y",
          "TV-G",
          "TV-Y",
          "TV-Y7",
          "TV-Y7",
          "TV-G",
          "TV-Y",
          "TV-Y7",
          "TV-Y",
          "TV-PG",
          "TV-G",
          "TV-Y7",
          "TV-Y7",
          "TV-Y7",
          "TV-Y7",
          "TV-G",
          "TV-Y",
          "TV-Y7",
          "TV-Y7",
          "TV-G",
          "TV-Y7",
          "TV-G",
          "TV-PG",
          "TV-Y",
          "TV-14",
          "TV-PG",
          "TV-Y7",
          "TV-Y7",
          "TV-Y7",
          "TV-G",
          "TV-G",
          "TV-Y7",
          "TV-PG",
          "TV-Y",
          "TV-G",
          "TV-PG",
          "TV-PG",
          "TV-Y7",
          "TV-Y7",
          "TV-G",
          "TV-PG",
          "TV-PG",
          "TV-PG",
          "TV-Y7",
          "TV-Y7",
          "TV-Y7",
          "TV-Y7",
          "TV-Y7",
          "TV-Y7-FV",
          "TV-Y7",
          "TV-Y7",
          "TV-G",
          "TV-PG",
          "TV-Y7",
          "TV-Y7",
          "TV-Y7",
          "TV-14",
          "TV-Y7",
          "TV-Y7",
          "TV-Y7",
          "TV-Y7",
          "TV-Y7",
          "TV-PG",
          "TV-14",
          "TV-Y7",
          "TV-Y7",
          "TV-G",
          "TV-PG",
          "TV-Y7",
          "TV-Y",
          "TV-14",
          "TV-G",
          "TV-G",
          "TV-G",
          "TV-G",
          "TV-Y",
          "TV-PG",
          "TV-G",
          "TV-Y7",
          "TV-Y7",
          "TV-Y7",
          "TV-Y7",
          "TV-Y7",
          "TV-Y7",
          "TV-Y7",
          "TV-Y7",
          "TV-Y7",
          "TV-Y7-FV",
          "TV-G",
          "TV-G",
          "TV-Y7",
          "TV-Y7",
          "TV-Y",
          "TV-Y",
          "TV-PG",
          "TV-PG",
          "TV-Y",
          "TV-G",
          "TV-G",
          "TV-G",
          "TV-PG",
          "TV-Y",
          "TV-PG",
          "TV-G",
          "TV-Y7",
          "TV-Y7",
          "TV-G"
         ],
         "xaxis": "x",
         "yaxis": "y"
        }
       ],
       "layout": {
        "barmode": "relative",
        "legend": {
         "title": {
          "text": "type"
         },
         "tracegroupgap": 0
        },
        "template": {
         "data": {
          "bar": [
           {
            "error_x": {
             "color": "#2a3f5f"
            },
            "error_y": {
             "color": "#2a3f5f"
            },
            "marker": {
             "line": {
              "color": "#E5ECF6",
              "width": 0.5
             },
             "pattern": {
              "fillmode": "overlay",
              "size": 10,
              "solidity": 0.2
             }
            },
            "type": "bar"
           }
          ],
          "barpolar": [
           {
            "marker": {
             "line": {
              "color": "#E5ECF6",
              "width": 0.5
             },
             "pattern": {
              "fillmode": "overlay",
              "size": 10,
              "solidity": 0.2
             }
            },
            "type": "barpolar"
           }
          ],
          "carpet": [
           {
            "aaxis": {
             "endlinecolor": "#2a3f5f",
             "gridcolor": "white",
             "linecolor": "white",
             "minorgridcolor": "white",
             "startlinecolor": "#2a3f5f"
            },
            "baxis": {
             "endlinecolor": "#2a3f5f",
             "gridcolor": "white",
             "linecolor": "white",
             "minorgridcolor": "white",
             "startlinecolor": "#2a3f5f"
            },
            "type": "carpet"
           }
          ],
          "choropleth": [
           {
            "colorbar": {
             "outlinewidth": 0,
             "ticks": ""
            },
            "type": "choropleth"
           }
          ],
          "contour": [
           {
            "colorbar": {
             "outlinewidth": 0,
             "ticks": ""
            },
            "colorscale": [
             [
              0,
              "#0d0887"
             ],
             [
              0.1111111111111111,
              "#46039f"
             ],
             [
              0.2222222222222222,
              "#7201a8"
             ],
             [
              0.3333333333333333,
              "#9c179e"
             ],
             [
              0.4444444444444444,
              "#bd3786"
             ],
             [
              0.5555555555555556,
              "#d8576b"
             ],
             [
              0.6666666666666666,
              "#ed7953"
             ],
             [
              0.7777777777777778,
              "#fb9f3a"
             ],
             [
              0.8888888888888888,
              "#fdca26"
             ],
             [
              1,
              "#f0f921"
             ]
            ],
            "type": "contour"
           }
          ],
          "contourcarpet": [
           {
            "colorbar": {
             "outlinewidth": 0,
             "ticks": ""
            },
            "type": "contourcarpet"
           }
          ],
          "heatmap": [
           {
            "colorbar": {
             "outlinewidth": 0,
             "ticks": ""
            },
            "colorscale": [
             [
              0,
              "#0d0887"
             ],
             [
              0.1111111111111111,
              "#46039f"
             ],
             [
              0.2222222222222222,
              "#7201a8"
             ],
             [
              0.3333333333333333,
              "#9c179e"
             ],
             [
              0.4444444444444444,
              "#bd3786"
             ],
             [
              0.5555555555555556,
              "#d8576b"
             ],
             [
              0.6666666666666666,
              "#ed7953"
             ],
             [
              0.7777777777777778,
              "#fb9f3a"
             ],
             [
              0.8888888888888888,
              "#fdca26"
             ],
             [
              1,
              "#f0f921"
             ]
            ],
            "type": "heatmap"
           }
          ],
          "heatmapgl": [
           {
            "colorbar": {
             "outlinewidth": 0,
             "ticks": ""
            },
            "colorscale": [
             [
              0,
              "#0d0887"
             ],
             [
              0.1111111111111111,
              "#46039f"
             ],
             [
              0.2222222222222222,
              "#7201a8"
             ],
             [
              0.3333333333333333,
              "#9c179e"
             ],
             [
              0.4444444444444444,
              "#bd3786"
             ],
             [
              0.5555555555555556,
              "#d8576b"
             ],
             [
              0.6666666666666666,
              "#ed7953"
             ],
             [
              0.7777777777777778,
              "#fb9f3a"
             ],
             [
              0.8888888888888888,
              "#fdca26"
             ],
             [
              1,
              "#f0f921"
             ]
            ],
            "type": "heatmapgl"
           }
          ],
          "histogram": [
           {
            "marker": {
             "pattern": {
              "fillmode": "overlay",
              "size": 10,
              "solidity": 0.2
             }
            },
            "type": "histogram"
           }
          ],
          "histogram2d": [
           {
            "colorbar": {
             "outlinewidth": 0,
             "ticks": ""
            },
            "colorscale": [
             [
              0,
              "#0d0887"
             ],
             [
              0.1111111111111111,
              "#46039f"
             ],
             [
              0.2222222222222222,
              "#7201a8"
             ],
             [
              0.3333333333333333,
              "#9c179e"
             ],
             [
              0.4444444444444444,
              "#bd3786"
             ],
             [
              0.5555555555555556,
              "#d8576b"
             ],
             [
              0.6666666666666666,
              "#ed7953"
             ],
             [
              0.7777777777777778,
              "#fb9f3a"
             ],
             [
              0.8888888888888888,
              "#fdca26"
             ],
             [
              1,
              "#f0f921"
             ]
            ],
            "type": "histogram2d"
           }
          ],
          "histogram2dcontour": [
           {
            "colorbar": {
             "outlinewidth": 0,
             "ticks": ""
            },
            "colorscale": [
             [
              0,
              "#0d0887"
             ],
             [
              0.1111111111111111,
              "#46039f"
             ],
             [
              0.2222222222222222,
              "#7201a8"
             ],
             [
              0.3333333333333333,
              "#9c179e"
             ],
             [
              0.4444444444444444,
              "#bd3786"
             ],
             [
              0.5555555555555556,
              "#d8576b"
             ],
             [
              0.6666666666666666,
              "#ed7953"
             ],
             [
              0.7777777777777778,
              "#fb9f3a"
             ],
             [
              0.8888888888888888,
              "#fdca26"
             ],
             [
              1,
              "#f0f921"
             ]
            ],
            "type": "histogram2dcontour"
           }
          ],
          "mesh3d": [
           {
            "colorbar": {
             "outlinewidth": 0,
             "ticks": ""
            },
            "type": "mesh3d"
           }
          ],
          "parcoords": [
           {
            "line": {
             "colorbar": {
              "outlinewidth": 0,
              "ticks": ""
             }
            },
            "type": "parcoords"
           }
          ],
          "pie": [
           {
            "automargin": true,
            "type": "pie"
           }
          ],
          "scatter": [
           {
            "fillpattern": {
             "fillmode": "overlay",
             "size": 10,
             "solidity": 0.2
            },
            "type": "scatter"
           }
          ],
          "scatter3d": [
           {
            "line": {
             "colorbar": {
              "outlinewidth": 0,
              "ticks": ""
             }
            },
            "marker": {
             "colorbar": {
              "outlinewidth": 0,
              "ticks": ""
             }
            },
            "type": "scatter3d"
           }
          ],
          "scattercarpet": [
           {
            "marker": {
             "colorbar": {
              "outlinewidth": 0,
              "ticks": ""
             }
            },
            "type": "scattercarpet"
           }
          ],
          "scattergeo": [
           {
            "marker": {
             "colorbar": {
              "outlinewidth": 0,
              "ticks": ""
             }
            },
            "type": "scattergeo"
           }
          ],
          "scattergl": [
           {
            "marker": {
             "colorbar": {
              "outlinewidth": 0,
              "ticks": ""
             }
            },
            "type": "scattergl"
           }
          ],
          "scattermapbox": [
           {
            "marker": {
             "colorbar": {
              "outlinewidth": 0,
              "ticks": ""
             }
            },
            "type": "scattermapbox"
           }
          ],
          "scatterpolar": [
           {
            "marker": {
             "colorbar": {
              "outlinewidth": 0,
              "ticks": ""
             }
            },
            "type": "scatterpolar"
           }
          ],
          "scatterpolargl": [
           {
            "marker": {
             "colorbar": {
              "outlinewidth": 0,
              "ticks": ""
             }
            },
            "type": "scatterpolargl"
           }
          ],
          "scatterternary": [
           {
            "marker": {
             "colorbar": {
              "outlinewidth": 0,
              "ticks": ""
             }
            },
            "type": "scatterternary"
           }
          ],
          "surface": [
           {
            "colorbar": {
             "outlinewidth": 0,
             "ticks": ""
            },
            "colorscale": [
             [
              0,
              "#0d0887"
             ],
             [
              0.1111111111111111,
              "#46039f"
             ],
             [
              0.2222222222222222,
              "#7201a8"
             ],
             [
              0.3333333333333333,
              "#9c179e"
             ],
             [
              0.4444444444444444,
              "#bd3786"
             ],
             [
              0.5555555555555556,
              "#d8576b"
             ],
             [
              0.6666666666666666,
              "#ed7953"
             ],
             [
              0.7777777777777778,
              "#fb9f3a"
             ],
             [
              0.8888888888888888,
              "#fdca26"
             ],
             [
              1,
              "#f0f921"
             ]
            ],
            "type": "surface"
           }
          ],
          "table": [
           {
            "cells": {
             "fill": {
              "color": "#EBF0F8"
             },
             "line": {
              "color": "white"
             }
            },
            "header": {
             "fill": {
              "color": "#C8D4E3"
             },
             "line": {
              "color": "white"
             }
            },
            "type": "table"
           }
          ]
         },
         "layout": {
          "annotationdefaults": {
           "arrowcolor": "#2a3f5f",
           "arrowhead": 0,
           "arrowwidth": 1
          },
          "autotypenumbers": "strict",
          "coloraxis": {
           "colorbar": {
            "outlinewidth": 0,
            "ticks": ""
           }
          },
          "colorscale": {
           "diverging": [
            [
             0,
             "#8e0152"
            ],
            [
             0.1,
             "#c51b7d"
            ],
            [
             0.2,
             "#de77ae"
            ],
            [
             0.3,
             "#f1b6da"
            ],
            [
             0.4,
             "#fde0ef"
            ],
            [
             0.5,
             "#f7f7f7"
            ],
            [
             0.6,
             "#e6f5d0"
            ],
            [
             0.7,
             "#b8e186"
            ],
            [
             0.8,
             "#7fbc41"
            ],
            [
             0.9,
             "#4d9221"
            ],
            [
             1,
             "#276419"
            ]
           ],
           "sequential": [
            [
             0,
             "#0d0887"
            ],
            [
             0.1111111111111111,
             "#46039f"
            ],
            [
             0.2222222222222222,
             "#7201a8"
            ],
            [
             0.3333333333333333,
             "#9c179e"
            ],
            [
             0.4444444444444444,
             "#bd3786"
            ],
            [
             0.5555555555555556,
             "#d8576b"
            ],
            [
             0.6666666666666666,
             "#ed7953"
            ],
            [
             0.7777777777777778,
             "#fb9f3a"
            ],
            [
             0.8888888888888888,
             "#fdca26"
            ],
            [
             1,
             "#f0f921"
            ]
           ],
           "sequentialminus": [
            [
             0,
             "#0d0887"
            ],
            [
             0.1111111111111111,
             "#46039f"
            ],
            [
             0.2222222222222222,
             "#7201a8"
            ],
            [
             0.3333333333333333,
             "#9c179e"
            ],
            [
             0.4444444444444444,
             "#bd3786"
            ],
            [
             0.5555555555555556,
             "#d8576b"
            ],
            [
             0.6666666666666666,
             "#ed7953"
            ],
            [
             0.7777777777777778,
             "#fb9f3a"
            ],
            [
             0.8888888888888888,
             "#fdca26"
            ],
            [
             1,
             "#f0f921"
            ]
           ]
          },
          "colorway": [
           "#636efa",
           "#EF553B",
           "#00cc96",
           "#ab63fa",
           "#FFA15A",
           "#19d3f3",
           "#FF6692",
           "#B6E880",
           "#FF97FF",
           "#FECB52"
          ],
          "font": {
           "color": "#2a3f5f"
          },
          "geo": {
           "bgcolor": "white",
           "lakecolor": "white",
           "landcolor": "#E5ECF6",
           "showlakes": true,
           "showland": true,
           "subunitcolor": "white"
          },
          "hoverlabel": {
           "align": "left"
          },
          "hovermode": "closest",
          "mapbox": {
           "style": "light"
          },
          "paper_bgcolor": "white",
          "plot_bgcolor": "#E5ECF6",
          "polar": {
           "angularaxis": {
            "gridcolor": "white",
            "linecolor": "white",
            "ticks": ""
           },
           "bgcolor": "#E5ECF6",
           "radialaxis": {
            "gridcolor": "white",
            "linecolor": "white",
            "ticks": ""
           }
          },
          "scene": {
           "xaxis": {
            "backgroundcolor": "#E5ECF6",
            "gridcolor": "white",
            "gridwidth": 2,
            "linecolor": "white",
            "showbackground": true,
            "ticks": "",
            "zerolinecolor": "white"
           },
           "yaxis": {
            "backgroundcolor": "#E5ECF6",
            "gridcolor": "white",
            "gridwidth": 2,
            "linecolor": "white",
            "showbackground": true,
            "ticks": "",
            "zerolinecolor": "white"
           },
           "zaxis": {
            "backgroundcolor": "#E5ECF6",
            "gridcolor": "white",
            "gridwidth": 2,
            "linecolor": "white",
            "showbackground": true,
            "ticks": "",
            "zerolinecolor": "white"
           }
          },
          "shapedefaults": {
           "line": {
            "color": "#2a3f5f"
           }
          },
          "ternary": {
           "aaxis": {
            "gridcolor": "white",
            "linecolor": "white",
            "ticks": ""
           },
           "baxis": {
            "gridcolor": "white",
            "linecolor": "white",
            "ticks": ""
           },
           "bgcolor": "#E5ECF6",
           "caxis": {
            "gridcolor": "white",
            "linecolor": "white",
            "ticks": ""
           }
          },
          "title": {
           "x": 0.05
          },
          "xaxis": {
           "automargin": true,
           "gridcolor": "white",
           "linecolor": "white",
           "ticks": "",
           "title": {
            "standoff": 15
           },
           "zerolinecolor": "white",
           "zerolinewidth": 2
          },
          "yaxis": {
           "automargin": true,
           "gridcolor": "white",
           "linecolor": "white",
           "ticks": "",
           "title": {
            "standoff": 15
           },
           "zerolinecolor": "white",
           "zerolinewidth": 2
          }
         }
        },
        "title": {
         "text": "Ratings of the Movies and TV-shows"
        },
        "xaxis": {
         "anchor": "y",
         "domain": [
          0,
          1
         ],
         "title": {
          "text": "value"
         }
        },
        "yaxis": {
         "anchor": "x",
         "domain": [
          0,
          1
         ],
         "title": {
          "text": "count"
         }
        }
       }
      },
      "text/html": [
       "<div>                            <div id=\"48a747e7-4047-4b23-9ea0-df89de4dbbbb\" class=\"plotly-graph-div\" style=\"height:525px; width:100%;\"></div>            <script type=\"text/javascript\">                require([\"plotly\"], function(Plotly) {                    window.PLOTLYENV=window.PLOTLYENV || {};                                    if (document.getElementById(\"48a747e7-4047-4b23-9ea0-df89de4dbbbb\")) {                    Plotly.newPlot(                        \"48a747e7-4047-4b23-9ea0-df89de4dbbbb\",                        [{\"alignmentgroup\":\"True\",\"bingroup\":\"x\",\"hovertemplate\":\"type=Movie<br>value=%{x}<br>count=%{y}<extra></extra>\",\"legendgroup\":\"Movie\",\"marker\":{\"color\":\"#636efa\",\"pattern\":{\"shape\":\"\"}},\"name\":\"Movie\",\"offsetgroup\":\"Movie\",\"orientation\":\"v\",\"showlegend\":true,\"x\":[\"TV-G\",\"PG\",\"TV-G\",\"TV-PG\",\"PG-13\",\"G\",\"TV-PG\",\"TV-G\",\"G\",\"TV-PG\",\"TV-G\",\"TV-PG\",\"PG\",\"G\",\"G\",\"G\",\"PG\",\"PG-13\",\"TV-14\",\"TV-PG\",\"TV-PG\",\"G\",\"G\",\"PG-13\",\"TV-G\",\"G\",\"G\",\"G\",\"TV-PG\",\"TV-G\",\"TV-PG\",\"G\",\"TV-PG\",\"TV-PG\",\"G\",\"PG\",\"PG\",\"TV-G\",\"G\",\"G\",\"G\",\"G\",\"PG-13\",\"TV-PG\",\"PG\",\"PG\",\"G\",\"TV-PG\",\"TV-PG\",\"G\",\"TV-Y\",\"TV-PG\",\"TV-PG\",\"TV-G\",\"PG-13\",\"PG-13\",\"PG\",\"PG\",\"TV-Y7-FV\",\"PG\",\"TV-G\",\"TV-PG\",\"G\",\"PG-13\",\"PG\",\"TV-G\",\"TV-G\",\"TV-PG\",\"TV-PG\",\"G\",\"TV-PG\",\"TV-G\",\"PG-13\",\"PG\",\"TV-14\",\"PG-13\",\"PG-13\",\"PG-13\",\"TV-G\",\"TV-14\",\"PG\",\"PG\",\"PG-13\",\"PG-13\",\"G\",\"G\",\"TV-14\",\"PG-13\",\"TV-PG\",\"PG\",\"PG\",\"TV-14\",\"TV-14\",\"TV-PG\",\"TV-14\",\"PG\",\"TV-PG\",\"TV-PG\",\"TV-14\",\"TV-14\",\"TV-PG\",\"PG\",\"TV-PG\",\"TV-14\",\"PG\",\"TV-Y7-FV\",\"TV-14\",\"TV-14\",\"TV-PG\",\"TV-14\",\"TV-14\",\"TV-PG\",\"PG\",\"PG\",\"TV-PG\",\"TV-PG\",\"PG\",\"PG\",\"G\",\"PG\",\"PG\",\"PG-13\",\"G\",\"G\",\"TV-PG\",\"TV-PG\",\"PG\",\"TV-PG\",\"PG\",\"G\",\"PG-13\",\"PG\",\"G\",\"TV-PG\",\"TV-G\",\"TV-PG\",\"TV-PG\",\"TV-PG\",\"PG\",\"TV-14\",\"G\",\"PG\",\"G\",\"PG\",\"TV-PG\",\"PG\",\"TV-PG\",\"PG\",\"TV-PG\",\"TV-PG\",\"G\",\"PG\",\"TV-PG\",\"TV-Y7-FV\",\"PG\",\"TV-14\",\"G\",\"G\",\"TV-Y\",\"PG-13\",\"TV-14\",\"PG\",\"TV-G\",\"TV-PG\",\"TV-G\",\"PG\",\"PG\",\"PG\",\"PG\",\"TV-14\",\"G\",\"PG\",\"TV-PG\",\"TV-PG\",\"TV-PG\",\"TV-14\",\"TV-PG\",\"PG-13\",\"PG\",\"PG\",\"TV-G\",\"TV-PG\",\"TV-14\",\"G\",\"TV-PG\",\"TV-PG\",\"G\",\"PG\",\"PG\",\"TV-G\",\"TV-PG\",\"TV-G\",\"PG\",\"TV-Y7-FV\",\"TV-G\",\"TV-G\",\"TV-14\",\"TV-G\",\"PG\",\"PG\",\"G\",\"PG\",\"TV-PG\",\"PG-13\",\"PG\",\"TV-G\",\"PG\",\"PG\",\"TV-PG\",\"TV-G\",\"TV-14\",\"PG\",\"PG\",\"TV-PG\",\"TV-Y7-FV\",\"PG\",\"PG\",\"PG\",\"TV-G\",\"TV-PG\",\"PG\",\"PG\",\"TV-G\",\"TV-G\",\"TV-G\",\"PG\",\"TV-PG\",\"TV-PG\",\"TV-G\",\"PG\",\"PG-13\",\"TV-14\",\"PG\",\"TV-PG\",\"PG\",\"TV-14\",\"PG-13\",\"PG\",\"G\",\"PG\",\"TV-PG\",\"TV-PG\",\"PG-13\",\"PG\",\"TV-PG\",\"PG\",\"PG\",\"PG\",\"TV-G\",\"PG\",\"TV-G\",\"TV-PG\",\"PG\",\"TV-PG\",\"PG\",\"TV-G\",\"TV-14\",\"PG\",\"PG-13\",\"PG\",\"TV-PG\",\"PG-13\",\"TV-PG\",\"TV-PG\",\"G\",\"TV-PG\",\"TV-14\",\"TV-PG\",\"TV-PG\",\"PG\",\"TV-PG\",\"TV-PG\",\"PG-13\",\"TV-PG\",\"PG\",\"TV-14\",\"TV-PG\",\"PG-13\",\"TV-PG\",\"PG-13\",\"PG-13\",\"TV-PG\",\"PG\",\"PG-13\",\"PG\",\"PG\",\"PG\",\"PG\",\"PG\",\"TV-PG\",\"TV-G\",\"PG-13\",\"G\",\"G\",\"TV-PG\",\"TV-PG\",\"PG\",\"G\",\"TV-G\",\"TV-G\",\"PG\",\"TV-PG\",\"TV-PG\",\"PG\",\"TV-PG\",\"TV-PG\",\"PG\",\"TV-PG\",\"PG\",\"TV-G\",\"PG\",\"PG\",\"G\",\"PG\",\"PG\",\"PG\",\"PG-13\",\"PG-13\",\"TV-PG\",\"PG\",\"G\",\"G\",\"TV-G\",\"TV-PG\",\"TV-PG\",\"TV-Y7\",\"PG\",\"TV-G\",\"PG\",\"TV-PG\",\"TV-G\",\"TV-14\",\"TV-G\",\"TV-G\",\"TV-PG\",\"G\",\"G\",\"TV-G\",\"G\",\"G\",\"G\",\"TV-G\",\"TV-G\",\"TV-G\",\"TV-G\",\"G\",\"TV-G\",\"TV-G\",\"G\",\"TV-G\",\"TV-G\",\"PG\",\"TV-G\",\"G\",\"TV-G\",\"TV-PG\",\"TV-PG\",\"TV-G\",\"TV-PG\",\"G\",\"PG\",\"PG\",\"PG\",\"PG\",\"PG\",\"PG\",\"PG\",\"PG\",\"PG\",\"PG-13\",\"PG\",\"PG\",\"PG-13\",\"TV-G\",\"TV-PG\",\"TV-Y7\",\"TV-Y7\",\"PG\",\"PG\",\"TV-PG\",\"TV-PG\",\"PG\",\"G\",\"TV-G\",\"PG\",\"PG\",\"TV-G\",\"PG\",\"PG\",\"TV-G\",\"PG\",\"PG\",\"TV-G\",\"TV-G\",\"TV-G\",\"TV-Y7\",\"TV-G\",\"TV-G\",\"G\",\"TV-Y7\",\"TV-G\",\"PG\",\"TV-PG\",\"TV-PG\",\"TV-PG\",\"TV-PG\",\"TV-14\",\"TV-PG\",\"TV-PG\",\"PG\",\"TV-PG\",\"TV-Y7\",\"G\",\"TV-G\",\"PG-13\",\"TV-G\",\"PG\",\"TV-G\",\"PG\",\"TV-G\",\"G\",\"TV-G\",\"PG-13\",\"TV-PG\",\"TV-PG\",\"PG\",\"TV-14\",\"TV-Y7-FV\",\"TV-Y7\",\"TV-PG\",\"PG\",\"PG\",\"TV-G\",\"TV-PG\",\"TV-G\",\"TV-G\",\"TV-G\",\"PG-13\",\"G\",\"G\",\"G\",\"TV-PG\",\"G\",\"G\",\"G\",\"PG\",\"TV-G\",\"TV-G\",\"G\",\"G\",\"G\",\"G\",\"G\",\"TV-G\",\"TV-PG\",\"PG\",\"G\",\"G\",\"TV-PG\",\"TV-PG\",\"TV-PG\",\"G\",\"PG\",\"TV-G\",\"PG-13\",\"TV-Y7\",\"TV-PG\",\"G\",\"G\",\"G\",\"TV-G\",\"TV-PG\",\"G\",\"G\",\"TV-G\",\"TV-14\",\"G\",\"PG\",\"TV-PG\",\"PG\",\"TV-G\",\"PG\",\"TV-G\",\"G\",\"PG\",\"TV-G\",\"TV-PG\",\"TV-G\",\"G\",\"G\",\"TV-G\",\"TV-G\",\"TV-G\",\"PG\",\"TV-G\",\"TV-G\",\"TV-PG\",\"G\",\"TV-G\",\"G\",\"G\",\"G\",\"TV-G\",\"TV-G\",\"TV-G\",\"TV-Y7\",\"TV-Y7\",\"TV-Y7\",\"TV-Y7\",\"TV-PG\",\"G\",\"TV-G\",\"G\",\"TV-G\",\"G\",\"G\",\"G\",\"TV-G\",\"TV-G\",\"G\",\"PG\",\"TV-G\",\"TV-G\",\"TV-G\",\"G\",\"G\",\"PG\",\"G\",\"TV-PG\",\"G\",\"TV-G\",\"PG\",\"PG\",\"TV-G\",\"TV-G\",\"TV-G\",\"TV-G\",\"TV-G\",\"TV-PG\",\"TV-G\",\"TV-PG\",\"TV-PG\",\"PG\",\"TV-PG\",\"G\",\"G\",\"G\",\"G\",\"G\",\"G\",\"G\",\"TV-PG\",\"TV-G\",\"TV-G\",\"TV-G\",\"G\",\"G\",\"TV-PG\",\"PG\",\"TV-G\",\"TV-PG\",\"TV-14\",\"TV-G\",\"PG\",\"TV-PG\",\"TV-14\",\"G\",\"TV-PG\",\"G\",\"G\",\"TV-G\",\"PG\",\"G\",\"PG\",\"PG\",\"PG\",\"TV-Y7\",\"PG\",\"TV-G\",\"G\",\"TV-G\",\"PG\",\"PG\",\"PG\",\"TV-PG\",\"TV-G\",\"PG\",\"TV-G\",\"G\",\"TV-G\",\"TV-G\",\"TV-G\",\"TV-G\",\"G\",\"TV-G\",\"TV-PG\",\"TV-G\",\"TV-G\",\"TV-G\",\"TV-G\",\"TV-G\",\"TV-G\",\"TV-G\",\"G\",\"TV-PG\",\"TV-G\",\"TV-PG\",\"G\",\"G\",\"TV-G\",\"TV-G\",\"PG\",\"G\",\"G\",\"G\",\"G\",\"TV-G\",\"TV-G\",\"G\",\"PG\",\"PG\",\"PG\",\"PG\",\"PG\",\"TV-G\",\"TV-G\",\"TV-PG\",\"TV-G\",\"TV-G\",\"TV-G\",\"PG\",\"TV-G\",\"G\",\"G\",\"PG\",\"PG\",\"G\",\"TV-PG\",\"TV-PG\",\"PG\",\"TV-G\",\"PG\",\"PG-13\",\"G\",\"PG\",\"PG\",\"TV-14\",\"TV-G\",\"TV-G\",\"G\",\"TV-G\",\"G\",\"TV-G\",\"TV-G\",\"PG\",\"TV-PG\",\"PG\",\"TV-G\",\"TV-G\",\"TV-PG\",\"TV-PG\",\"PG\",\"G\",\"G\",\"G\",\"PG\",\"G\",\"TV-Y7\",\"TV-Y7\",\"TV-Y7\",\"TV-Y7\",\"TV-Y7\",\"TV-G\",\"TV-Y7\",\"G\",\"TV-G\",\"TV-G\",\"PG\",\"TV-14\",\"G\",\"TV-PG\",\"PG\",\"TV-Y7\",\"G\",\"TV-G\",\"G\",\"TV-PG\",\"TV-G\",\"TV-PG\",\"TV-PG\",\"TV-Y7-FV\",\"TV-PG\",\"TV-PG\",\"PG-13\",\"PG-13\",\"PG-13\",\"PG-13\",\"PG-13\",\"PG-13\",\"PG-13\",\"PG-13\",\"PG-13\",\"PG-13\",\"PG-13\",\"PG-13\",\"PG-13\",\"PG-13\",\"PG-13\",\"PG-13\",\"G\",\"TV-Y7\",\"PG\",\"G\",\"TV-PG\",\"TV-G\",\"G\",\"TV-G\",\"G\",\"TV-G\",\"TV-G\",\"TV-G\",\"TV-PG\",\"G\",\"PG\",\"TV-G\",\"TV-G\",\"PG\",\"TV-14\",\"TV-G\",\"TV-G\",\"TV-PG\",\"PG\",\"TV-PG\",\"G\",\"G\",\"TV-G\",\"TV-PG\",\"TV-G\",\"TV-G\",\"G\",\"G\",\"PG\",\"PG\",\"PG\",\"PG\",\"PG\",\"G\",\"TV-G\",\"G\",\"G\",\"G\",\"TV-PG\",\"G\",\"G\",\"PG\",\"TV-PG\",\"G\",\"PG\",\"G\",\"PG\",\"G\",\"G\",\"TV-G\",\"TV-G\",\"TV-G\",\"G\",\"G\",\"G\",\"PG-13\",\"PG-13\",\"PG-13\",\"TV-G\",\"TV-PG\",\"TV-PG\",\"TV-Y7\",\"TV-G\",\"TV-G\",\"G\",\"G\",\"G\",\"TV-G\",\"G\",\"G\",\"TV-G\",\"PG\",\"PG\",\"TV-G\",\"G\",\"TV-G\",\"TV-G\",\"G\",\"G\",\"G\",\"TV-G\",\"PG\",\"TV-G\",\"G\",\"TV-PG\",\"PG\",\"G\",\"TV-G\",\"G\",\"TV-G\",\"G\",\"PG-13\",\"G\",\"TV-PG\",\"G\",\"TV-PG\",\"TV-G\",\"PG\",\"G\",\"TV-G\",\"PG-13\",\"PG\",\"TV-PG\",\"G\",\"PG\",\"TV-PG\",\"TV-PG\",\"TV-PG\",\"TV-PG\",\"TV-G\",\"PG\",\"PG-13\",\"PG\",\"PG\",\"TV-PG\",\"G\",\"TV-G\",\"PG\",\"G\",\"G\",\"TV-PG\",\"TV-G\",\"PG\",\"PG\",\"PG\",\"PG-13\",\"PG\",\"PG-13\",\"PG\",\"TV-G\",\"TV-Y7\",\"TV-G\",\"G\",\"TV-PG\",\"TV-G\",\"TV-PG\",\"G\",\"PG\",\"PG\",\"PG\",\"TV-Y7\",\"TV-PG\",\"PG\",\"TV-G\",\"TV-G\",\"TV-14\",\"PG\",\"G\",\"G\",\"TV-G\",\"TV-PG\",\"PG\",\"G\",\"G\",\"G\",\"G\",\"G\",\"TV-G\",\"TV-Y7\",\"TV-PG\",\"TV-Y7\",\"G\",\"PG\",\"PG\",\"G\",\"TV-G\",\"G\",\"TV-G\",\"TV-G\",\"TV-G\",\"TV-G\",\"PG\",\"PG\",\"TV-G\",\"G\",\"G\",\"G\",\"TV-G\",\"TV-PG\",\"G\",\"G\",\"PG\",\"TV-PG\",\"TV-Y7\",\"TV-Y7\",\"PG\",\"G\",\"PG\",\"PG\",\"TV-G\",\"G\",\"G\",\"G\",\"PG\",\"PG\",\"G\",\"G\",\"TV-G\",\"G\",\"G\",\"G\",\"G\",\"G\",\"TV-Y7\",\"G\",\"PG\",\"TV-PG\",\"G\",\"TV-Y\",\"G\",\"TV-PG\",\"G\",\"G\",\"PG\",\"TV-Y7\",\"TV-G\",\"PG\",\"G\",\"TV-G\",\"TV-PG\",\"TV-G\",\"G\",\"G\",\"G\",\"G\",\"TV-G\",\"G\",\"G\",\"G\",\"G\",\"PG\",\"G\",\"G\",\"TV-PG\",\"G\",\"G\",\"G\",\"G\",\"TV-G\",\"G\",\"PG\",\"G\",\"TV-G\",\"TV-G\",\"TV-G\",\"G\",\"PG\",\"G\",\"TV-G\",\"TV-G\",\"TV-Y7\",\"TV-G\",\"G\",\"G\",\"TV-G\",\"TV-G\",\"G\",\"TV-Y7\",\"TV-G\",\"TV-Y7\",\"TV-Y7\",\"PG\",\"PG\",\"TV-G\",\"TV-PG\",\"PG\",\"TV-G\",\"G\",\"G\",\"G\",\"TV-PG\",\"TV-Y7\",\"PG\",\"G\",\"G\",\"G\",\"G\",\"G\",\"G\",\"G\",\"TV-G\",\"PG\",\"G\",\"PG\",\"TV-PG\",\"PG\",\"TV-G\",\"PG\",\"TV-G\",\"TV-G\",\"TV-PG\",\"TV-PG\",\"G\",\"PG\",\"TV-G\",\"G\",\"PG\",\"G\",\"TV-PG\",\"G\",\"PG\",\"PG\",\"TV-PG\",\"G\",\"G\",\"G\",\"TV-G\",\"TV-G\",\"TV-PG\",\"PG\",\"TV-Y7\",\"TV-PG\",\"TV-G\",\"TV-G\",\"TV-G\",\"TV-G\",\"TV-G\",\"TV-G\",\"TV-G\",\"TV-G\",\"PG\",\"G\",\"G\",\"TV-PG\",\"TV-G\",\"G\",\"G\",\"G\",\"G\",\"PG\",\"PG\",\"PG\",\"PG\",\"PG-13\",\"PG\",\"PG-13\",\"PG-13\",\"TV-G\"],\"xaxis\":\"x\",\"yaxis\":\"y\",\"type\":\"histogram\"},{\"alignmentgroup\":\"True\",\"bingroup\":\"x\",\"hovertemplate\":\"type=TV Show<br>value=%{x}<br>count=%{y}<extra></extra>\",\"legendgroup\":\"TV Show\",\"marker\":{\"color\":\"#EF553B\",\"pattern\":{\"shape\":\"\"}},\"name\":\"TV Show\",\"offsetgroup\":\"TV Show\",\"orientation\":\"v\",\"showlegend\":true,\"x\":[\"TV-14\",\"TV-14\",\"TV-PG\",\"TV-PG\",\"TV-PG\",\"TV-PG\",\"TV-PG\",\"TV-Y7\",\"TV-PG\",\"TV-14\",\"TV-Y7\",\"TV-PG\",\"TV-PG\",\"TV-PG\",\"TV-14\",\"TV-14\",\"TV-PG\",\"TV-G\",\"TV-PG\",\"TV-PG\",\"TV-14\",\"TV-14\",\"TV-Y7\",\"TV-Y7\",\"TV-G\",\"TV-PG\",\"TV-Y\",\"TV-Y\",\"TV-PG\",\"TV-14\",\"TV-PG\",\"TV-PG\",\"TV-Y\",\"TV-PG\",\"TV-14\",\"TV-Y7\",\"TV-14\",\"TV-PG\",\"TV-Y\",\"TV-Y\",\"TV-14\",\"TV-PG\",\"TV-PG\",\"TV-14\",\"TV-Y\",\"TV-14\",\"TV-PG\",\"TV-PG\",\"TV-Y\",\"TV-G\",\"TV-G\",\"TV-14\",\"TV-14\",\"PG\",\"TV-Y7\",\"TV-14\",\"TV-Y\",\"TV-Y\",\"TV-Y7\",\"TV-PG\",\"TV-PG\",\"TV-Y7\",\"TV-Y\",\"TV-Y\",\"TV-PG\",\"TV-14\",\"TV-G\",\"TV-14\",\"TV-14\",\"TV-Y\",\"TV-G\",\"TV-G\",\"TV-PG\",\"TV-PG\",\"TV-Y\",\"TV-Y7\",\"TV-14\",\"TV-Y7-FV\",\"TV-G\",\"TV-G\",\"TV-14\",\"TV-14\",\"TV-Y\",\"TV-Y\",\"TV-G\",\"TV-PG\",\"TV-14\",\"TV-Y7\",\"TV-Y7\",\"TV-14\",\"TV-G\",\"TV-Y\",\"TV-14\",\"TV-Y\",\"TV-Y7\",\"TV-Y7\",\"TV-G\",\"TV-PG\",\"TV-Y7\",\"TV-G\",\"TV-Y7\",\"TV-G\",\"TV-PG\",\"TV-PG\",\"TV-G\",\"TV-PG\",\"TV-Y7\",\"TV-Y7\",\"TV-Y\",\"TV-PG\",\"TV-PG\",\"TV-Y7-FV\",\"TV-Y7-FV\",\"TV-Y7\",\"TV-Y7\",\"TV-PG\",\"TV-G\",\"TV-PG\",\"TV-14\",\"TV-Y7\",\"TV-PG\",\"TV-G\",\"TV-Y7\",\"TV-G\",\"TV-G\",\"TV-Y7\",\"TV-PG\",\"TV-PG\",\"TV-Y7-FV\",\"TV-14\",\"TV-PG\",\"TV-PG\",\"TV-Y7\",\"TV-14\",\"TV-G\",\"TV-14\",\"TV-14\",\"TV-PG\",\"TV-G\",\"TV-PG\",\"TV-PG\",\"TV-PG\",\"TV-G\",\"TV-G\",\"TV-14\",\"TV-G\",\"TV-PG\",\"TV-Y\",\"TV-Y\",\"TV-14\",\"TV-PG\",\"TV-PG\",\"TV-PG\",\"TV-Y\",\"TV-PG\",\"TV-Y\",\"TV-14\",\"TV-PG\",\"TV-PG\",\"TV-14\",\"TV-PG\",\"TV-G\",\"TV-G\",\"TV-14\",\"TV-PG\",\"TV-G\",\"TV-G\",\"TV-PG\",\"TV-G\",\"TV-Y\",\"TV-PG\",\"TV-G\",\"TV-G\",\"TV-G\",\"TV-G\",\"TV-G\",\"TV-PG\",\"TV-PG\",\"TV-G\",\"TV-G\",\"TV-G\",\"TV-PG\",\"TV-PG\",\"TV-Y7\",\"TV-PG\",\"TV-G\",\"TV-Y\",\"TV-PG\",\"TV-PG\",\"TV-PG\",\"TV-Y\",\"TV-Y7\",\"TV-PG\",\"TV-PG\",\"TV-PG\",\"TV-G\",\"TV-PG\",\"TV-Y7\",\"TV-Y\",\"TV-Y7\",\"TV-PG\",\"TV-PG\",\"TV-PG\",\"TV-PG\",\"TV-PG\",\"TV-PG\",\"TV-PG\",\"TV-Y7\",\"TV-Y7\",\"TV-PG\",\"TV-PG\",\"TV-PG\",\"TV-G\",\"TV-PG\",\"TV-PG\",\"TV-PG\",\"TV-PG\",\"TV-PG\",\"TV-PG\",\"TV-G\",\"TV-PG\",\"TV-Y7\",\"TV-G\",\"TV-Y\",\"TV-Y7\",\"TV-Y\",\"TV-PG\",\"TV-PG\",\"TV-G\",\"TV-G\",\"TV-G\",\"TV-G\",\"TV-PG\",\"TV-Y7\",\"TV-Y7\",\"TV-G\",\"TV-Y7\",\"TV-PG\",\"TV-PG\",\"TV-PG\",\"TV-G\",\"TV-PG\",\"TV-PG\",\"TV-14\",\"TV-PG\",\"TV-Y7\",\"TV-Y7\",\"TV-G\",\"TV-PG\",\"TV-14\",\"TV-G\",\"TV-Y7\",\"TV-Y7\",\"TV-PG\",\"TV-14\",\"TV-G\",\"TV-Y7\",\"TV-PG\",\"TV-PG\",\"TV-PG\",\"TV-Y\",\"TV-Y7\",\"TV-Y\",\"TV-Y\",\"TV-Y\",\"TV-PG\",\"TV-Y\",\"TV-G\",\"TV-G\",\"TV-Y7\",\"TV-Y7\",\"TV-G\",\"TV-PG\",\"TV-G\",\"TV-G\",\"TV-G\",\"TV-Y7\",\"TV-Y7\",\"TV-PG\",\"TV-G\",\"TV-Y7\",\"TV-PG\",\"TV-G\",\"TV-G\",\"TV-Y7\",\"TV-G\",\"TV-Y\",\"TV-G\",\"TV-Y\",\"TV-Y7\",\"TV-Y7\",\"TV-G\",\"TV-Y\",\"TV-Y7\",\"TV-Y\",\"TV-PG\",\"TV-G\",\"TV-Y7\",\"TV-Y7\",\"TV-Y7\",\"TV-Y7\",\"TV-G\",\"TV-Y\",\"TV-Y7\",\"TV-Y7\",\"TV-G\",\"TV-Y7\",\"TV-G\",\"TV-PG\",\"TV-Y\",\"TV-14\",\"TV-PG\",\"TV-Y7\",\"TV-Y7\",\"TV-Y7\",\"TV-G\",\"TV-G\",\"TV-Y7\",\"TV-PG\",\"TV-Y\",\"TV-G\",\"TV-PG\",\"TV-PG\",\"TV-Y7\",\"TV-Y7\",\"TV-G\",\"TV-PG\",\"TV-PG\",\"TV-PG\",\"TV-Y7\",\"TV-Y7\",\"TV-Y7\",\"TV-Y7\",\"TV-Y7\",\"TV-Y7-FV\",\"TV-Y7\",\"TV-Y7\",\"TV-G\",\"TV-PG\",\"TV-Y7\",\"TV-Y7\",\"TV-Y7\",\"TV-14\",\"TV-Y7\",\"TV-Y7\",\"TV-Y7\",\"TV-Y7\",\"TV-Y7\",\"TV-PG\",\"TV-14\",\"TV-Y7\",\"TV-Y7\",\"TV-G\",\"TV-PG\",\"TV-Y7\",\"TV-Y\",\"TV-14\",\"TV-G\",\"TV-G\",\"TV-G\",\"TV-G\",\"TV-Y\",\"TV-PG\",\"TV-G\",\"TV-Y7\",\"TV-Y7\",\"TV-Y7\",\"TV-Y7\",\"TV-Y7\",\"TV-Y7\",\"TV-Y7\",\"TV-Y7\",\"TV-Y7\",\"TV-Y7-FV\",\"TV-G\",\"TV-G\",\"TV-Y7\",\"TV-Y7\",\"TV-Y\",\"TV-Y\",\"TV-PG\",\"TV-PG\",\"TV-Y\",\"TV-G\",\"TV-G\",\"TV-G\",\"TV-PG\",\"TV-Y\",\"TV-PG\",\"TV-G\",\"TV-Y7\",\"TV-Y7\",\"TV-G\"],\"xaxis\":\"x\",\"yaxis\":\"y\",\"type\":\"histogram\"}],                        {\"template\":{\"data\":{\"histogram2dcontour\":[{\"type\":\"histogram2dcontour\",\"colorbar\":{\"outlinewidth\":0,\"ticks\":\"\"},\"colorscale\":[[0.0,\"#0d0887\"],[0.1111111111111111,\"#46039f\"],[0.2222222222222222,\"#7201a8\"],[0.3333333333333333,\"#9c179e\"],[0.4444444444444444,\"#bd3786\"],[0.5555555555555556,\"#d8576b\"],[0.6666666666666666,\"#ed7953\"],[0.7777777777777778,\"#fb9f3a\"],[0.8888888888888888,\"#fdca26\"],[1.0,\"#f0f921\"]]}],\"choropleth\":[{\"type\":\"choropleth\",\"colorbar\":{\"outlinewidth\":0,\"ticks\":\"\"}}],\"histogram2d\":[{\"type\":\"histogram2d\",\"colorbar\":{\"outlinewidth\":0,\"ticks\":\"\"},\"colorscale\":[[0.0,\"#0d0887\"],[0.1111111111111111,\"#46039f\"],[0.2222222222222222,\"#7201a8\"],[0.3333333333333333,\"#9c179e\"],[0.4444444444444444,\"#bd3786\"],[0.5555555555555556,\"#d8576b\"],[0.6666666666666666,\"#ed7953\"],[0.7777777777777778,\"#fb9f3a\"],[0.8888888888888888,\"#fdca26\"],[1.0,\"#f0f921\"]]}],\"heatmap\":[{\"type\":\"heatmap\",\"colorbar\":{\"outlinewidth\":0,\"ticks\":\"\"},\"colorscale\":[[0.0,\"#0d0887\"],[0.1111111111111111,\"#46039f\"],[0.2222222222222222,\"#7201a8\"],[0.3333333333333333,\"#9c179e\"],[0.4444444444444444,\"#bd3786\"],[0.5555555555555556,\"#d8576b\"],[0.6666666666666666,\"#ed7953\"],[0.7777777777777778,\"#fb9f3a\"],[0.8888888888888888,\"#fdca26\"],[1.0,\"#f0f921\"]]}],\"heatmapgl\":[{\"type\":\"heatmapgl\",\"colorbar\":{\"outlinewidth\":0,\"ticks\":\"\"},\"colorscale\":[[0.0,\"#0d0887\"],[0.1111111111111111,\"#46039f\"],[0.2222222222222222,\"#7201a8\"],[0.3333333333333333,\"#9c179e\"],[0.4444444444444444,\"#bd3786\"],[0.5555555555555556,\"#d8576b\"],[0.6666666666666666,\"#ed7953\"],[0.7777777777777778,\"#fb9f3a\"],[0.8888888888888888,\"#fdca26\"],[1.0,\"#f0f921\"]]}],\"contourcarpet\":[{\"type\":\"contourcarpet\",\"colorbar\":{\"outlinewidth\":0,\"ticks\":\"\"}}],\"contour\":[{\"type\":\"contour\",\"colorbar\":{\"outlinewidth\":0,\"ticks\":\"\"},\"colorscale\":[[0.0,\"#0d0887\"],[0.1111111111111111,\"#46039f\"],[0.2222222222222222,\"#7201a8\"],[0.3333333333333333,\"#9c179e\"],[0.4444444444444444,\"#bd3786\"],[0.5555555555555556,\"#d8576b\"],[0.6666666666666666,\"#ed7953\"],[0.7777777777777778,\"#fb9f3a\"],[0.8888888888888888,\"#fdca26\"],[1.0,\"#f0f921\"]]}],\"surface\":[{\"type\":\"surface\",\"colorbar\":{\"outlinewidth\":0,\"ticks\":\"\"},\"colorscale\":[[0.0,\"#0d0887\"],[0.1111111111111111,\"#46039f\"],[0.2222222222222222,\"#7201a8\"],[0.3333333333333333,\"#9c179e\"],[0.4444444444444444,\"#bd3786\"],[0.5555555555555556,\"#d8576b\"],[0.6666666666666666,\"#ed7953\"],[0.7777777777777778,\"#fb9f3a\"],[0.8888888888888888,\"#fdca26\"],[1.0,\"#f0f921\"]]}],\"mesh3d\":[{\"type\":\"mesh3d\",\"colorbar\":{\"outlinewidth\":0,\"ticks\":\"\"}}],\"scatter\":[{\"fillpattern\":{\"fillmode\":\"overlay\",\"size\":10,\"solidity\":0.2},\"type\":\"scatter\"}],\"parcoords\":[{\"type\":\"parcoords\",\"line\":{\"colorbar\":{\"outlinewidth\":0,\"ticks\":\"\"}}}],\"scatterpolargl\":[{\"type\":\"scatterpolargl\",\"marker\":{\"colorbar\":{\"outlinewidth\":0,\"ticks\":\"\"}}}],\"bar\":[{\"error_x\":{\"color\":\"#2a3f5f\"},\"error_y\":{\"color\":\"#2a3f5f\"},\"marker\":{\"line\":{\"color\":\"#E5ECF6\",\"width\":0.5},\"pattern\":{\"fillmode\":\"overlay\",\"size\":10,\"solidity\":0.2}},\"type\":\"bar\"}],\"scattergeo\":[{\"type\":\"scattergeo\",\"marker\":{\"colorbar\":{\"outlinewidth\":0,\"ticks\":\"\"}}}],\"scatterpolar\":[{\"type\":\"scatterpolar\",\"marker\":{\"colorbar\":{\"outlinewidth\":0,\"ticks\":\"\"}}}],\"histogram\":[{\"marker\":{\"pattern\":{\"fillmode\":\"overlay\",\"size\":10,\"solidity\":0.2}},\"type\":\"histogram\"}],\"scattergl\":[{\"type\":\"scattergl\",\"marker\":{\"colorbar\":{\"outlinewidth\":0,\"ticks\":\"\"}}}],\"scatter3d\":[{\"type\":\"scatter3d\",\"line\":{\"colorbar\":{\"outlinewidth\":0,\"ticks\":\"\"}},\"marker\":{\"colorbar\":{\"outlinewidth\":0,\"ticks\":\"\"}}}],\"scattermapbox\":[{\"type\":\"scattermapbox\",\"marker\":{\"colorbar\":{\"outlinewidth\":0,\"ticks\":\"\"}}}],\"scatterternary\":[{\"type\":\"scatterternary\",\"marker\":{\"colorbar\":{\"outlinewidth\":0,\"ticks\":\"\"}}}],\"scattercarpet\":[{\"type\":\"scattercarpet\",\"marker\":{\"colorbar\":{\"outlinewidth\":0,\"ticks\":\"\"}}}],\"carpet\":[{\"aaxis\":{\"endlinecolor\":\"#2a3f5f\",\"gridcolor\":\"white\",\"linecolor\":\"white\",\"minorgridcolor\":\"white\",\"startlinecolor\":\"#2a3f5f\"},\"baxis\":{\"endlinecolor\":\"#2a3f5f\",\"gridcolor\":\"white\",\"linecolor\":\"white\",\"minorgridcolor\":\"white\",\"startlinecolor\":\"#2a3f5f\"},\"type\":\"carpet\"}],\"table\":[{\"cells\":{\"fill\":{\"color\":\"#EBF0F8\"},\"line\":{\"color\":\"white\"}},\"header\":{\"fill\":{\"color\":\"#C8D4E3\"},\"line\":{\"color\":\"white\"}},\"type\":\"table\"}],\"barpolar\":[{\"marker\":{\"line\":{\"color\":\"#E5ECF6\",\"width\":0.5},\"pattern\":{\"fillmode\":\"overlay\",\"size\":10,\"solidity\":0.2}},\"type\":\"barpolar\"}],\"pie\":[{\"automargin\":true,\"type\":\"pie\"}]},\"layout\":{\"autotypenumbers\":\"strict\",\"colorway\":[\"#636efa\",\"#EF553B\",\"#00cc96\",\"#ab63fa\",\"#FFA15A\",\"#19d3f3\",\"#FF6692\",\"#B6E880\",\"#FF97FF\",\"#FECB52\"],\"font\":{\"color\":\"#2a3f5f\"},\"hovermode\":\"closest\",\"hoverlabel\":{\"align\":\"left\"},\"paper_bgcolor\":\"white\",\"plot_bgcolor\":\"#E5ECF6\",\"polar\":{\"bgcolor\":\"#E5ECF6\",\"angularaxis\":{\"gridcolor\":\"white\",\"linecolor\":\"white\",\"ticks\":\"\"},\"radialaxis\":{\"gridcolor\":\"white\",\"linecolor\":\"white\",\"ticks\":\"\"}},\"ternary\":{\"bgcolor\":\"#E5ECF6\",\"aaxis\":{\"gridcolor\":\"white\",\"linecolor\":\"white\",\"ticks\":\"\"},\"baxis\":{\"gridcolor\":\"white\",\"linecolor\":\"white\",\"ticks\":\"\"},\"caxis\":{\"gridcolor\":\"white\",\"linecolor\":\"white\",\"ticks\":\"\"}},\"coloraxis\":{\"colorbar\":{\"outlinewidth\":0,\"ticks\":\"\"}},\"colorscale\":{\"sequential\":[[0.0,\"#0d0887\"],[0.1111111111111111,\"#46039f\"],[0.2222222222222222,\"#7201a8\"],[0.3333333333333333,\"#9c179e\"],[0.4444444444444444,\"#bd3786\"],[0.5555555555555556,\"#d8576b\"],[0.6666666666666666,\"#ed7953\"],[0.7777777777777778,\"#fb9f3a\"],[0.8888888888888888,\"#fdca26\"],[1.0,\"#f0f921\"]],\"sequentialminus\":[[0.0,\"#0d0887\"],[0.1111111111111111,\"#46039f\"],[0.2222222222222222,\"#7201a8\"],[0.3333333333333333,\"#9c179e\"],[0.4444444444444444,\"#bd3786\"],[0.5555555555555556,\"#d8576b\"],[0.6666666666666666,\"#ed7953\"],[0.7777777777777778,\"#fb9f3a\"],[0.8888888888888888,\"#fdca26\"],[1.0,\"#f0f921\"]],\"diverging\":[[0,\"#8e0152\"],[0.1,\"#c51b7d\"],[0.2,\"#de77ae\"],[0.3,\"#f1b6da\"],[0.4,\"#fde0ef\"],[0.5,\"#f7f7f7\"],[0.6,\"#e6f5d0\"],[0.7,\"#b8e186\"],[0.8,\"#7fbc41\"],[0.9,\"#4d9221\"],[1,\"#276419\"]]},\"xaxis\":{\"gridcolor\":\"white\",\"linecolor\":\"white\",\"ticks\":\"\",\"title\":{\"standoff\":15},\"zerolinecolor\":\"white\",\"automargin\":true,\"zerolinewidth\":2},\"yaxis\":{\"gridcolor\":\"white\",\"linecolor\":\"white\",\"ticks\":\"\",\"title\":{\"standoff\":15},\"zerolinecolor\":\"white\",\"automargin\":true,\"zerolinewidth\":2},\"scene\":{\"xaxis\":{\"backgroundcolor\":\"#E5ECF6\",\"gridcolor\":\"white\",\"linecolor\":\"white\",\"showbackground\":true,\"ticks\":\"\",\"zerolinecolor\":\"white\",\"gridwidth\":2},\"yaxis\":{\"backgroundcolor\":\"#E5ECF6\",\"gridcolor\":\"white\",\"linecolor\":\"white\",\"showbackground\":true,\"ticks\":\"\",\"zerolinecolor\":\"white\",\"gridwidth\":2},\"zaxis\":{\"backgroundcolor\":\"#E5ECF6\",\"gridcolor\":\"white\",\"linecolor\":\"white\",\"showbackground\":true,\"ticks\":\"\",\"zerolinecolor\":\"white\",\"gridwidth\":2}},\"shapedefaults\":{\"line\":{\"color\":\"#2a3f5f\"}},\"annotationdefaults\":{\"arrowcolor\":\"#2a3f5f\",\"arrowhead\":0,\"arrowwidth\":1},\"geo\":{\"bgcolor\":\"white\",\"landcolor\":\"#E5ECF6\",\"subunitcolor\":\"white\",\"showland\":true,\"showlakes\":true,\"lakecolor\":\"white\"},\"title\":{\"x\":0.05},\"mapbox\":{\"style\":\"light\"}}},\"xaxis\":{\"anchor\":\"y\",\"domain\":[0.0,1.0],\"title\":{\"text\":\"value\"}},\"yaxis\":{\"anchor\":\"x\",\"domain\":[0.0,1.0],\"title\":{\"text\":\"count\"}},\"legend\":{\"title\":{\"text\":\"type\"},\"tracegroupgap\":0},\"title\":{\"text\":\"Ratings of the Movies and TV-shows\"},\"barmode\":\"relative\"},                        {\"responsive\": true}                    ).then(function(){\n",
       "                            \n",
       "var gd = document.getElementById('48a747e7-4047-4b23-9ea0-df89de4dbbbb');\n",
       "var x = new MutationObserver(function (mutations, observer) {{\n",
       "        var display = window.getComputedStyle(gd).display;\n",
       "        if (!display || display === 'none') {{\n",
       "            console.log([gd, 'removed!']);\n",
       "            Plotly.purge(gd);\n",
       "            observer.disconnect();\n",
       "        }}\n",
       "}});\n",
       "\n",
       "// Listen for the removal of the full notebook cells\n",
       "var notebookContainer = gd.closest('#notebook-container');\n",
       "if (notebookContainer) {{\n",
       "    x.observe(notebookContainer, {childList: true});\n",
       "}}\n",
       "\n",
       "// Listen for the clearing of the current output cell\n",
       "var outputEl = gd.closest('.output');\n",
       "if (outputEl) {{\n",
       "    x.observe(outputEl, {childList: true});\n",
       "}}\n",
       "\n",
       "                        })                };                });            </script>        </div>"
      ]
     },
     "metadata": {},
     "output_type": "display_data"
    }
   ],
   "source": [
    "#sns.histplot(data=df,x='rating',hue='type',)\n",
    "fig = px.histogram(data_frame=df, x = ['rating'], color = 'type', title=\"Ratings of the Movies and TV-shows\")\n",
    "fig.show()"
   ]
  },
  {
   "cell_type": "markdown",
   "id": "91b20cf6",
   "metadata": {},
   "source": [
    "### This will be the data of Movies and TV Show based on Rating."
   ]
  }
 ],
 "metadata": {
  "kernelspec": {
   "display_name": "Python 3 (ipykernel)",
   "language": "python",
   "name": "python3"
  },
  "language_info": {
   "codemirror_mode": {
    "name": "ipython",
    "version": 3
   },
   "file_extension": ".py",
   "mimetype": "text/x-python",
   "name": "python",
   "nbconvert_exporter": "python",
   "pygments_lexer": "ipython3",
   "version": "3.10.4"
  }
 },
 "nbformat": 4,
 "nbformat_minor": 5
}
